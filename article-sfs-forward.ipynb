{
 "cells": [
  {
   "cell_type": "code",
   "execution_count": 1,
   "id": "6b745129",
   "metadata": {
    "ExecuteTime": {
     "end_time": "2022-11-24T14:16:42.270806Z",
     "start_time": "2022-11-24T14:16:41.176345Z"
    }
   },
   "outputs": [],
   "source": [
    "from articlecommon import *\n",
    "import warnings\n",
    "warnings.filterwarnings(\"ignore\")\n",
    "from category_encoders import TargetEncoder\n",
    "from sklearn.preprocessing import QuantileTransformer\n",
    "from sklearn.feature_selection import SequentialFeatureSelector\n",
    "\n",
    "# Add Policy_Sales_Channel OHE columns\n",
    "psc_ohe = pd.get_dummies(X_le[\"Policy_Sales_Channel\"], prefix=\"Policy_Sales_Channel\")\n",
    "counts = X_le[\"Policy_Sales_Channel\"].value_counts()\n",
    "counts = counts[counts == 1]\n",
    "columns_to_remove = list(map(lambda x: \"Policy_Sales_Channel_\" + str(x), counts.index.tolist()))\n",
    "psc_ohe = psc_ohe.drop(columns=columns_to_remove)\n",
    "\n",
    "X_le_psc = pd.concat([X_le, psc_ohe], axis=1)\n",
    "\n",
    "value_counts = X_le_psc[\"Policy_Sales_Channel\"].value_counts().index\n",
    "columns_to_remove = list(map(lambda x: \"Policy_Sales_Channel_\" + str(value_counts[x]), [*range(147, 86, -1)]))\n",
    "columns_to_remove += ['Vintage']\n",
    "\n",
    "# Define the model\n",
    "\n",
    "quant_trans_uniform = QuantileTransformer(output_distribution='uniform')\n",
    "lgbm = LGBMClassifier(random_state=42, verbose=-1)\n",
    "\n",
    "model = make_pipeline(quant_trans_uniform, lgbm)"
   ]
  },
  {
   "cell_type": "code",
   "execution_count": 2,
   "id": "0e8996fb",
   "metadata": {
    "ExecuteTime": {
     "end_time": "2022-11-24T15:14:35.112008Z",
     "start_time": "2022-11-24T14:16:42.271953Z"
    }
   },
   "outputs": [
    {
     "data": {
      "text/html": [
       "<style>#sk-container-id-1 {color: black;background-color: white;}#sk-container-id-1 pre{padding: 0;}#sk-container-id-1 div.sk-toggleable {background-color: white;}#sk-container-id-1 label.sk-toggleable__label {cursor: pointer;display: block;width: 100%;margin-bottom: 0;padding: 0.3em;box-sizing: border-box;text-align: center;}#sk-container-id-1 label.sk-toggleable__label-arrow:before {content: \"▸\";float: left;margin-right: 0.25em;color: #696969;}#sk-container-id-1 label.sk-toggleable__label-arrow:hover:before {color: black;}#sk-container-id-1 div.sk-estimator:hover label.sk-toggleable__label-arrow:before {color: black;}#sk-container-id-1 div.sk-toggleable__content {max-height: 0;max-width: 0;overflow: hidden;text-align: left;background-color: #f0f8ff;}#sk-container-id-1 div.sk-toggleable__content pre {margin: 0.2em;color: black;border-radius: 0.25em;background-color: #f0f8ff;}#sk-container-id-1 input.sk-toggleable__control:checked~div.sk-toggleable__content {max-height: 200px;max-width: 100%;overflow: auto;}#sk-container-id-1 input.sk-toggleable__control:checked~label.sk-toggleable__label-arrow:before {content: \"▾\";}#sk-container-id-1 div.sk-estimator input.sk-toggleable__control:checked~label.sk-toggleable__label {background-color: #d4ebff;}#sk-container-id-1 div.sk-label input.sk-toggleable__control:checked~label.sk-toggleable__label {background-color: #d4ebff;}#sk-container-id-1 input.sk-hidden--visually {border: 0;clip: rect(1px 1px 1px 1px);clip: rect(1px, 1px, 1px, 1px);height: 1px;margin: -1px;overflow: hidden;padding: 0;position: absolute;width: 1px;}#sk-container-id-1 div.sk-estimator {font-family: monospace;background-color: #f0f8ff;border: 1px dotted black;border-radius: 0.25em;box-sizing: border-box;margin-bottom: 0.5em;}#sk-container-id-1 div.sk-estimator:hover {background-color: #d4ebff;}#sk-container-id-1 div.sk-parallel-item::after {content: \"\";width: 100%;border-bottom: 1px solid gray;flex-grow: 1;}#sk-container-id-1 div.sk-label:hover label.sk-toggleable__label {background-color: #d4ebff;}#sk-container-id-1 div.sk-serial::before {content: \"\";position: absolute;border-left: 1px solid gray;box-sizing: border-box;top: 0;bottom: 0;left: 50%;z-index: 0;}#sk-container-id-1 div.sk-serial {display: flex;flex-direction: column;align-items: center;background-color: white;padding-right: 0.2em;padding-left: 0.2em;position: relative;}#sk-container-id-1 div.sk-item {position: relative;z-index: 1;}#sk-container-id-1 div.sk-parallel {display: flex;align-items: stretch;justify-content: center;background-color: white;position: relative;}#sk-container-id-1 div.sk-item::before, #sk-container-id-1 div.sk-parallel-item::before {content: \"\";position: absolute;border-left: 1px solid gray;box-sizing: border-box;top: 0;bottom: 0;left: 50%;z-index: -1;}#sk-container-id-1 div.sk-parallel-item {display: flex;flex-direction: column;z-index: 1;position: relative;background-color: white;}#sk-container-id-1 div.sk-parallel-item:first-child::after {align-self: flex-end;width: 50%;}#sk-container-id-1 div.sk-parallel-item:last-child::after {align-self: flex-start;width: 50%;}#sk-container-id-1 div.sk-parallel-item:only-child::after {width: 0;}#sk-container-id-1 div.sk-dashed-wrapped {border: 1px dashed gray;margin: 0 0.4em 0.5em 0.4em;box-sizing: border-box;padding-bottom: 0.4em;background-color: white;}#sk-container-id-1 div.sk-label label {font-family: monospace;font-weight: bold;display: inline-block;line-height: 1.2em;}#sk-container-id-1 div.sk-label-container {text-align: center;}#sk-container-id-1 div.sk-container {/* jupyter's `normalize.less` sets `[hidden] { display: none; }` but bootstrap.min.css set `[hidden] { display: none !important; }` so we also need the `!important` here to be able to override the default hidden behavior on the sphinx rendered scikit-learn.org. See: https://github.com/scikit-learn/scikit-learn/issues/21755 */display: inline-block !important;position: relative;}#sk-container-id-1 div.sk-text-repr-fallback {display: none;}</style><div id=\"sk-container-id-1\" class=\"sk-top-container\"><div class=\"sk-text-repr-fallback\"><pre>SequentialFeatureSelector(cv=10,\n",
       "                          estimator=Pipeline(steps=[(&#x27;quantiletransformer&#x27;,\n",
       "                                                     QuantileTransformer()),\n",
       "                                                    (&#x27;lgbmclassifier&#x27;,\n",
       "                                                     LGBMClassifier(random_state=42,\n",
       "                                                                    verbose=-1))]),\n",
       "                          n_features_to_select=&#x27;auto&#x27;, scoring=&#x27;roc_auc&#x27;,\n",
       "                          tol=1e-10)</pre><b>In a Jupyter environment, please rerun this cell to show the HTML representation or trust the notebook. <br />On GitHub, the HTML representation is unable to render, please try loading this page with nbviewer.org.</b></div><div class=\"sk-container\" hidden><div class=\"sk-item sk-dashed-wrapped\"><div class=\"sk-label-container\"><div class=\"sk-label sk-toggleable\"><input class=\"sk-toggleable__control sk-hidden--visually\" id=\"sk-estimator-id-1\" type=\"checkbox\" ><label for=\"sk-estimator-id-1\" class=\"sk-toggleable__label sk-toggleable__label-arrow\">SequentialFeatureSelector</label><div class=\"sk-toggleable__content\"><pre>SequentialFeatureSelector(cv=10,\n",
       "                          estimator=Pipeline(steps=[(&#x27;quantiletransformer&#x27;,\n",
       "                                                     QuantileTransformer()),\n",
       "                                                    (&#x27;lgbmclassifier&#x27;,\n",
       "                                                     LGBMClassifier(random_state=42,\n",
       "                                                                    verbose=-1))]),\n",
       "                          n_features_to_select=&#x27;auto&#x27;, scoring=&#x27;roc_auc&#x27;,\n",
       "                          tol=1e-10)</pre></div></div></div><div class=\"sk-parallel\"><div class=\"sk-parallel-item\"><div class=\"sk-item\"><div class=\"sk-label-container\"><div class=\"sk-label sk-toggleable\"><input class=\"sk-toggleable__control sk-hidden--visually\" id=\"sk-estimator-id-2\" type=\"checkbox\" ><label for=\"sk-estimator-id-2\" class=\"sk-toggleable__label sk-toggleable__label-arrow\">estimator: Pipeline</label><div class=\"sk-toggleable__content\"><pre>Pipeline(steps=[(&#x27;quantiletransformer&#x27;, QuantileTransformer()),\n",
       "                (&#x27;lgbmclassifier&#x27;,\n",
       "                 LGBMClassifier(random_state=42, verbose=-1))])</pre></div></div></div><div class=\"sk-serial\"><div class=\"sk-item\"><div class=\"sk-serial\"><div class=\"sk-item\"><div class=\"sk-estimator sk-toggleable\"><input class=\"sk-toggleable__control sk-hidden--visually\" id=\"sk-estimator-id-3\" type=\"checkbox\" ><label for=\"sk-estimator-id-3\" class=\"sk-toggleable__label sk-toggleable__label-arrow\">QuantileTransformer</label><div class=\"sk-toggleable__content\"><pre>QuantileTransformer()</pre></div></div></div><div class=\"sk-item\"><div class=\"sk-estimator sk-toggleable\"><input class=\"sk-toggleable__control sk-hidden--visually\" id=\"sk-estimator-id-4\" type=\"checkbox\" ><label for=\"sk-estimator-id-4\" class=\"sk-toggleable__label sk-toggleable__label-arrow\">LGBMClassifier</label><div class=\"sk-toggleable__content\"><pre>LGBMClassifier(random_state=42, verbose=-1)</pre></div></div></div></div></div></div></div></div></div></div></div></div>"
      ],
      "text/plain": [
       "SequentialFeatureSelector(cv=10,\n",
       "                          estimator=Pipeline(steps=[('quantiletransformer',\n",
       "                                                     QuantileTransformer()),\n",
       "                                                    ('lgbmclassifier',\n",
       "                                                     LGBMClassifier(random_state=42,\n",
       "                                                                    verbose=-1))]),\n",
       "                          n_features_to_select='auto', scoring='roc_auc',\n",
       "                          tol=1e-10)"
      ]
     },
     "execution_count": 2,
     "metadata": {},
     "output_type": "execute_result"
    }
   ],
   "source": [
    "sfs = SequentialFeatureSelector(model, n_features_to_select='auto', tol=0.0000000001, scoring='roc_auc', cv=10)\n",
    "sfs.fit(X_le_psc.drop(columns=columns_to_remove), y) # TODO: set all records"
   ]
  },
  {
   "cell_type": "code",
   "execution_count": 3,
   "id": "1b353150",
   "metadata": {
    "ExecuteTime": {
     "end_time": "2022-11-24T15:14:35.114735Z",
     "start_time": "2022-11-24T15:14:35.113011Z"
    }
   },
   "outputs": [],
   "source": [
    "# 100 rekordów - 13.5s\n",
    "# 200 rekordów - 21.3s\n",
    "# 300 rekordów - 32.8s\n",
    "# 1000 rekordów - 1m 24.7s\n",
    "\n",
    "# Przycięte 60 \"głupich\" kolumn OHE z tol=0.00001:\n",
    "# 1000 rekordów - 49s\n",
    "# 2000 rekordów - 1m 44.8s\n",
    "# 10k rekorów - 3m 30s\n",
    "# 20k rekordów 3m 33s\n",
    "# 40k rekordów 5m 24s\n",
    "\n",
    "# Przycięte 60 \"głupich\" kolumn OHE z tol=0.00000001:\n",
    "# 40k rekordów 5m 26s\n",
    "\n",
    "# Przycięte 60 \"głupich\" kolumn OHE z tol=0.00000001 i cv=10:\n",
    "# 20k rekordów 10m 9s\n",
    "# 40k rekordów 12m 5s\n",
    "\n",
    "# estymacja 381k rekordów (czas 40k * 10) = ~120 minut"
   ]
  },
  {
   "cell_type": "code",
   "execution_count": 4,
   "id": "4090bab4",
   "metadata": {
    "ExecuteTime": {
     "end_time": "2022-11-24T15:14:35.158069Z",
     "start_time": "2022-11-24T15:14:35.115869Z"
    }
   },
   "outputs": [
    {
     "data": {
      "text/html": [
       "<div>\n",
       "<style scoped>\n",
       "    .dataframe tbody tr th:only-of-type {\n",
       "        vertical-align: middle;\n",
       "    }\n",
       "\n",
       "    .dataframe tbody tr th {\n",
       "        vertical-align: top;\n",
       "    }\n",
       "\n",
       "    .dataframe thead th {\n",
       "        text-align: right;\n",
       "    }\n",
       "</style>\n",
       "<table border=\"1\" class=\"dataframe\">\n",
       "  <thead>\n",
       "    <tr style=\"text-align: right;\">\n",
       "      <th></th>\n",
       "      <th>Gender</th>\n",
       "      <th>Age</th>\n",
       "      <th>Region_Code</th>\n",
       "      <th>Previously_Insured</th>\n",
       "      <th>Vehicle_Age</th>\n",
       "      <th>Vehicle_Damage</th>\n",
       "      <th>Policy_Sales_Channel</th>\n",
       "      <th>Policy_Sales_Channel_116.0</th>\n",
       "      <th>Policy_Sales_Channel_131.0</th>\n",
       "    </tr>\n",
       "  </thead>\n",
       "  <tbody>\n",
       "    <tr>\n",
       "      <th>0</th>\n",
       "      <td>1</td>\n",
       "      <td>44</td>\n",
       "      <td>28.0</td>\n",
       "      <td>0</td>\n",
       "      <td>2</td>\n",
       "      <td>1</td>\n",
       "      <td>26.0</td>\n",
       "      <td>0</td>\n",
       "      <td>0</td>\n",
       "    </tr>\n",
       "    <tr>\n",
       "      <th>1</th>\n",
       "      <td>1</td>\n",
       "      <td>76</td>\n",
       "      <td>3.0</td>\n",
       "      <td>0</td>\n",
       "      <td>0</td>\n",
       "      <td>0</td>\n",
       "      <td>26.0</td>\n",
       "      <td>0</td>\n",
       "      <td>0</td>\n",
       "    </tr>\n",
       "    <tr>\n",
       "      <th>2</th>\n",
       "      <td>1</td>\n",
       "      <td>47</td>\n",
       "      <td>28.0</td>\n",
       "      <td>0</td>\n",
       "      <td>2</td>\n",
       "      <td>1</td>\n",
       "      <td>26.0</td>\n",
       "      <td>0</td>\n",
       "      <td>0</td>\n",
       "    </tr>\n",
       "    <tr>\n",
       "      <th>3</th>\n",
       "      <td>1</td>\n",
       "      <td>21</td>\n",
       "      <td>11.0</td>\n",
       "      <td>1</td>\n",
       "      <td>1</td>\n",
       "      <td>0</td>\n",
       "      <td>152.0</td>\n",
       "      <td>0</td>\n",
       "      <td>0</td>\n",
       "    </tr>\n",
       "    <tr>\n",
       "      <th>4</th>\n",
       "      <td>0</td>\n",
       "      <td>29</td>\n",
       "      <td>41.0</td>\n",
       "      <td>1</td>\n",
       "      <td>1</td>\n",
       "      <td>0</td>\n",
       "      <td>152.0</td>\n",
       "      <td>0</td>\n",
       "      <td>0</td>\n",
       "    </tr>\n",
       "    <tr>\n",
       "      <th>...</th>\n",
       "      <td>...</td>\n",
       "      <td>...</td>\n",
       "      <td>...</td>\n",
       "      <td>...</td>\n",
       "      <td>...</td>\n",
       "      <td>...</td>\n",
       "      <td>...</td>\n",
       "      <td>...</td>\n",
       "      <td>...</td>\n",
       "    </tr>\n",
       "    <tr>\n",
       "      <th>381104</th>\n",
       "      <td>1</td>\n",
       "      <td>74</td>\n",
       "      <td>26.0</td>\n",
       "      <td>1</td>\n",
       "      <td>0</td>\n",
       "      <td>0</td>\n",
       "      <td>26.0</td>\n",
       "      <td>0</td>\n",
       "      <td>0</td>\n",
       "    </tr>\n",
       "    <tr>\n",
       "      <th>381105</th>\n",
       "      <td>1</td>\n",
       "      <td>30</td>\n",
       "      <td>37.0</td>\n",
       "      <td>1</td>\n",
       "      <td>1</td>\n",
       "      <td>0</td>\n",
       "      <td>152.0</td>\n",
       "      <td>0</td>\n",
       "      <td>0</td>\n",
       "    </tr>\n",
       "    <tr>\n",
       "      <th>381106</th>\n",
       "      <td>1</td>\n",
       "      <td>21</td>\n",
       "      <td>30.0</td>\n",
       "      <td>1</td>\n",
       "      <td>1</td>\n",
       "      <td>0</td>\n",
       "      <td>160.0</td>\n",
       "      <td>0</td>\n",
       "      <td>0</td>\n",
       "    </tr>\n",
       "    <tr>\n",
       "      <th>381107</th>\n",
       "      <td>0</td>\n",
       "      <td>68</td>\n",
       "      <td>14.0</td>\n",
       "      <td>0</td>\n",
       "      <td>2</td>\n",
       "      <td>1</td>\n",
       "      <td>124.0</td>\n",
       "      <td>0</td>\n",
       "      <td>0</td>\n",
       "    </tr>\n",
       "    <tr>\n",
       "      <th>381108</th>\n",
       "      <td>1</td>\n",
       "      <td>46</td>\n",
       "      <td>29.0</td>\n",
       "      <td>0</td>\n",
       "      <td>0</td>\n",
       "      <td>0</td>\n",
       "      <td>26.0</td>\n",
       "      <td>0</td>\n",
       "      <td>0</td>\n",
       "    </tr>\n",
       "  </tbody>\n",
       "</table>\n",
       "<p>381109 rows × 9 columns</p>\n",
       "</div>"
      ],
      "text/plain": [
       "        Gender  Age  Region_Code  Previously_Insured  Vehicle_Age  \\\n",
       "0            1   44         28.0                   0            2   \n",
       "1            1   76          3.0                   0            0   \n",
       "2            1   47         28.0                   0            2   \n",
       "3            1   21         11.0                   1            1   \n",
       "4            0   29         41.0                   1            1   \n",
       "...        ...  ...          ...                 ...          ...   \n",
       "381104       1   74         26.0                   1            0   \n",
       "381105       1   30         37.0                   1            1   \n",
       "381106       1   21         30.0                   1            1   \n",
       "381107       0   68         14.0                   0            2   \n",
       "381108       1   46         29.0                   0            0   \n",
       "\n",
       "        Vehicle_Damage  Policy_Sales_Channel  Policy_Sales_Channel_116.0  \\\n",
       "0                    1                  26.0                           0   \n",
       "1                    0                  26.0                           0   \n",
       "2                    1                  26.0                           0   \n",
       "3                    0                 152.0                           0   \n",
       "4                    0                 152.0                           0   \n",
       "...                ...                   ...                         ...   \n",
       "381104               0                  26.0                           0   \n",
       "381105               0                 152.0                           0   \n",
       "381106               0                 160.0                           0   \n",
       "381107               1                 124.0                           0   \n",
       "381108               0                  26.0                           0   \n",
       "\n",
       "        Policy_Sales_Channel_131.0  \n",
       "0                                0  \n",
       "1                                0  \n",
       "2                                0  \n",
       "3                                0  \n",
       "4                                0  \n",
       "...                            ...  \n",
       "381104                           0  \n",
       "381105                           0  \n",
       "381106                           0  \n",
       "381107                           0  \n",
       "381108                           0  \n",
       "\n",
       "[381109 rows x 9 columns]"
      ]
     },
     "execution_count": 4,
     "metadata": {},
     "output_type": "execute_result"
    }
   ],
   "source": [
    "X_le_psc.drop(columns=columns_to_remove).loc[:, sfs.get_support()]"
   ]
  },
  {
   "cell_type": "code",
   "execution_count": 5,
   "id": "11409d54",
   "metadata": {
    "ExecuteTime": {
     "end_time": "2022-11-24T15:14:35.201073Z",
     "start_time": "2022-11-24T15:14:35.159220Z"
    }
   },
   "outputs": [],
   "source": [
    "columns_series = pd.Series(X_le_psc.drop(columns=columns_to_remove).loc[:, sfs.get_support()].columns.values)\n",
    "columns_series.to_csv(\"results/sfs_columns.csv\")"
   ]
  },
  {
   "cell_type": "code",
   "execution_count": 6,
   "id": "df57b903",
   "metadata": {
    "ExecuteTime": {
     "end_time": "2022-11-24T15:14:51.199898Z",
     "start_time": "2022-11-24T15:14:35.202122Z"
    }
   },
   "outputs": [
    {
     "name": "stdout",
     "output_type": "stream",
     "text": [
      "Cross validation time: 15.964802980422974 seconds\n",
      "Mean score: 0.8576919569781671\n"
     ]
    }
   ],
   "source": [
    "cross_val_summary(model, X_le_psc.drop(columns=columns_to_remove), y)"
   ]
  },
  {
   "cell_type": "code",
   "execution_count": 7,
   "id": "0da64158",
   "metadata": {
    "ExecuteTime": {
     "end_time": "2022-11-24T15:14:56.633594Z",
     "start_time": "2022-11-24T15:14:51.201002Z"
    }
   },
   "outputs": [
    {
     "name": "stdout",
     "output_type": "stream",
     "text": [
      "Cross validation time: 5.4100658893585205 seconds\n",
      "Mean score: 0.8577229501518608\n"
     ]
    }
   ],
   "source": [
    "cross_val_summary(model, X_le_psc.drop(columns=columns_to_remove).loc[:, sfs.get_support()], y)"
   ]
  }
 ],
 "metadata": {
  "kernelspec": {
   "display_name": "Python 3 (ipykernel)",
   "language": "python",
   "name": "python3"
  },
  "language_info": {
   "codemirror_mode": {
    "name": "ipython",
    "version": 3
   },
   "file_extension": ".py",
   "mimetype": "text/x-python",
   "name": "python",
   "nbconvert_exporter": "python",
   "pygments_lexer": "ipython3",
   "version": "3.8.10"
  }
 },
 "nbformat": 4,
 "nbformat_minor": 5
}
