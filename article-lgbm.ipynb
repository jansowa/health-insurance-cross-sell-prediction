{
 "cells": [
  {
   "cell_type": "markdown",
   "id": "9bf047ec",
   "metadata": {},
   "source": [
    "# Health insurance cross sell prediction with XGBoost"
   ]
  },
  {
   "cell_type": "markdown",
   "id": "4b40eeea",
   "metadata": {},
   "source": [
    "## 1. Problem description\n",
    "\n",
    "[Kaggle source](https://www.kaggle.com/datasets/anmolkumar/health-insurance-cross-sell-prediction)\n",
    "This dataset contains a list of health insurance customers. The \"Response\" column indicates whether the customer also wanted to use car insurance. I'll try to build a model that predicts this decision."
   ]
  },
  {
   "cell_type": "code",
   "execution_count": 1,
   "id": "5ffc9d50",
   "metadata": {},
   "outputs": [
    {
     "name": "stdout",
     "output_type": "stream",
     "text": [
      "Number of rows: 381109\n"
     ]
    },
    {
     "data": {
      "text/html": [
       "<div>\n",
       "<style scoped>\n",
       "    .dataframe tbody tr th:only-of-type {\n",
       "        vertical-align: middle;\n",
       "    }\n",
       "\n",
       "    .dataframe tbody tr th {\n",
       "        vertical-align: top;\n",
       "    }\n",
       "\n",
       "    .dataframe thead th {\n",
       "        text-align: right;\n",
       "    }\n",
       "</style>\n",
       "<table border=\"1\" class=\"dataframe\">\n",
       "  <thead>\n",
       "    <tr style=\"text-align: right;\">\n",
       "      <th></th>\n",
       "      <th>id</th>\n",
       "      <th>Gender</th>\n",
       "      <th>Age</th>\n",
       "      <th>Driving_License</th>\n",
       "      <th>Region_Code</th>\n",
       "      <th>Previously_Insured</th>\n",
       "      <th>Vehicle_Age</th>\n",
       "      <th>Vehicle_Damage</th>\n",
       "      <th>Annual_Premium</th>\n",
       "      <th>Policy_Sales_Channel</th>\n",
       "      <th>Vintage</th>\n",
       "      <th>Response</th>\n",
       "    </tr>\n",
       "  </thead>\n",
       "  <tbody>\n",
       "    <tr>\n",
       "      <th>0</th>\n",
       "      <td>1</td>\n",
       "      <td>Male</td>\n",
       "      <td>44</td>\n",
       "      <td>1</td>\n",
       "      <td>28.0</td>\n",
       "      <td>0</td>\n",
       "      <td>&gt; 2 Years</td>\n",
       "      <td>Yes</td>\n",
       "      <td>40454.0</td>\n",
       "      <td>26.0</td>\n",
       "      <td>217</td>\n",
       "      <td>1</td>\n",
       "    </tr>\n",
       "    <tr>\n",
       "      <th>1</th>\n",
       "      <td>2</td>\n",
       "      <td>Male</td>\n",
       "      <td>76</td>\n",
       "      <td>1</td>\n",
       "      <td>3.0</td>\n",
       "      <td>0</td>\n",
       "      <td>1-2 Year</td>\n",
       "      <td>No</td>\n",
       "      <td>33536.0</td>\n",
       "      <td>26.0</td>\n",
       "      <td>183</td>\n",
       "      <td>0</td>\n",
       "    </tr>\n",
       "    <tr>\n",
       "      <th>2</th>\n",
       "      <td>3</td>\n",
       "      <td>Male</td>\n",
       "      <td>47</td>\n",
       "      <td>1</td>\n",
       "      <td>28.0</td>\n",
       "      <td>0</td>\n",
       "      <td>&gt; 2 Years</td>\n",
       "      <td>Yes</td>\n",
       "      <td>38294.0</td>\n",
       "      <td>26.0</td>\n",
       "      <td>27</td>\n",
       "      <td>1</td>\n",
       "    </tr>\n",
       "    <tr>\n",
       "      <th>3</th>\n",
       "      <td>4</td>\n",
       "      <td>Male</td>\n",
       "      <td>21</td>\n",
       "      <td>1</td>\n",
       "      <td>11.0</td>\n",
       "      <td>1</td>\n",
       "      <td>&lt; 1 Year</td>\n",
       "      <td>No</td>\n",
       "      <td>28619.0</td>\n",
       "      <td>152.0</td>\n",
       "      <td>203</td>\n",
       "      <td>0</td>\n",
       "    </tr>\n",
       "    <tr>\n",
       "      <th>4</th>\n",
       "      <td>5</td>\n",
       "      <td>Female</td>\n",
       "      <td>29</td>\n",
       "      <td>1</td>\n",
       "      <td>41.0</td>\n",
       "      <td>1</td>\n",
       "      <td>&lt; 1 Year</td>\n",
       "      <td>No</td>\n",
       "      <td>27496.0</td>\n",
       "      <td>152.0</td>\n",
       "      <td>39</td>\n",
       "      <td>0</td>\n",
       "    </tr>\n",
       "  </tbody>\n",
       "</table>\n",
       "</div>"
      ],
      "text/plain": [
       "   id  Gender  Age  Driving_License  Region_Code  Previously_Insured  \\\n",
       "0   1    Male   44                1         28.0                   0   \n",
       "1   2    Male   76                1          3.0                   0   \n",
       "2   3    Male   47                1         28.0                   0   \n",
       "3   4    Male   21                1         11.0                   1   \n",
       "4   5  Female   29                1         41.0                   1   \n",
       "\n",
       "  Vehicle_Age Vehicle_Damage  Annual_Premium  Policy_Sales_Channel  Vintage  \\\n",
       "0   > 2 Years            Yes         40454.0                  26.0      217   \n",
       "1    1-2 Year             No         33536.0                  26.0      183   \n",
       "2   > 2 Years            Yes         38294.0                  26.0       27   \n",
       "3    < 1 Year             No         28619.0                 152.0      203   \n",
       "4    < 1 Year             No         27496.0                 152.0       39   \n",
       "\n",
       "   Response  \n",
       "0         1  \n",
       "1         0  \n",
       "2         1  \n",
       "3         0  \n",
       "4         0  "
      ]
     },
     "execution_count": 1,
     "metadata": {},
     "output_type": "execute_result"
    }
   ],
   "source": [
    "from common import *\n",
    "\n",
    "print(\"Number of rows:\", df.shape[0])\n",
    "df.head()"
   ]
  },
  {
   "cell_type": "markdown",
   "id": "985951f8",
   "metadata": {},
   "source": [
    "## 2. Initial data visualization\n",
    "TODO"
   ]
  },
  {
   "cell_type": "code",
   "execution_count": 2,
   "id": "5ac94901",
   "metadata": {},
   "outputs": [
    {
     "data": {
      "image/png": "[encoded data removed]",
      "text/plain": [
       "<Figure size 432x288 with 1 Axes>"
      ]
     },
     "metadata": {},
     "output_type": "display_data"
    }
   ],
   "source": [
    "labels = [\"positive (1)\", \"negative (0)\"]\n",
    "negative = df[df.Response == 0].size\n",
    "positive = df[df.Response == 1].size\n",
    "sizes = [negative, positive]\n",
    "fig1, ax1 = plt.subplots()\n",
    "ax1.pie(sizes, labels=labels, autopct='%1.1f%%', shadow=True, startangle=90)\n",
    "ax1.axis('equal')\n",
    "plt.title(\"Percentage of responses with a given class\", fontsize=25)\n",
    "plt.show()"
   ]
  },
  {
   "cell_type": "markdown",
   "id": "675d20bb",
   "metadata": {},
   "source": [
    "There are much more (87,7%) people witch choose both insurances."
   ]
  },
  {
   "cell_type": "code",
   "execution_count": 3,
   "id": "a7d5beba",
   "metadata": {},
   "outputs": [
    {
     "data": {
      "image/png": "[encoded data removed]",
      "text/plain": [
       "<Figure size 1080x1080 with 12 Axes>"
      ]
     },
     "metadata": {
      "needs_background": "light"
     },
     "output_type": "display_data"
    }
   ],
   "source": [
    "X_le.hist(bins=50, figsize=(15, 15))\n",
    "plt.show()"
   ]
  },
  {
   "cell_type": "markdown",
   "id": "a71832c5",
   "metadata": {},
   "source": [
    "TODO: conclusions from histogram"
   ]
  },
  {
   "cell_type": "markdown",
   "id": "8e696edf",
   "metadata": {},
   "source": [
    "## 3. Basic model with logistic regression\n",
    "TODO\n",
    "\n",
    "### 3.1 Metric\n",
    "TODO: linguistically improve the paragraph\n",
    "This problem is an example of an \"imbalanced dataset\". It means that one class (\"negative\"/\"zeroes\" in this article) has significantly more samples than the others. You can get 87.7% accuracy... just by assigning the same prediction to all cases. There are more reliable metrics for imbalanced datasets - one of them is ROC AUC.\n",
    "\n",
    "#### 3.1.1 True positive rate, False positive rate\n",
    "For proper understanging of ROC AUC metric it is necessary first to explain TPR (true positive rate) and FPR (false positive rate).\n",
    "\n",
    "True positive rate is number of proper predicted positive cases divided by all positive cases. For example - if there are 10.000 customers which choosed an insurance and our model found 9.500 of them - TPR equals 9.500/10.000 = 95%\n",
    "\n",
    "False positive rate is number of false predicted positive cases divided by all negative cases. For example - if there are 100.000 customers which didn't choose an insurance and our model predicted that 1.000 of them choosed it - FPR equals 1.000/100.000 = 1%\n",
    "\n",
    "#### 3.1.2 Receiver operating characteristic\n",
    "Usually we can set threshold describing how sure the algorithm need to be to predict the result for single sample as \"true\". There is TPR on vertical axis and FPR on horizontal axis and the ROC curve is created by plotting points for consecutive thresholds.\n",
    "\n",
    "#### 3.1.3 ROC Area under curve\n",
    "It could be hard to simple compare various ROC curves. For this purpose I'll use the final metric - ROC AUC (area under curve). The alhorithm will calculate area under ROC curve - it's much easier to compare single numbers.\n",
    "\n",
    "\n",
    "### 3.2 Cross validation\n",
    "Cross validation is a way of measuring model performance. It divides all the data into a given number of parts. Later in each iteration, one part is used as validation data and the rest as training data. Each part was used as test data after all iterations. This method gives more reliable measurements than standard one-step validation."
   ]
  },
  {
   "cell_type": "code",
   "execution_count": 4,
   "id": "414fc001",
   "metadata": {},
   "outputs": [
    {
     "name": "stdout",
     "output_type": "stream",
     "text": [
      "Cross validation time: 21.34451174736023 seconds\n",
      "Mean score: 0.6626219144051005\n"
     ]
    }
   ],
   "source": [
    "from sklearn.linear_model import LogisticRegression\n",
    "logreg = LogisticRegression(random_state=42, n_jobs=-1)\n",
    "cross_val_summary(logreg, X_le, y)"
   ]
  },
  {
   "cell_type": "markdown",
   "id": "c6d5a93b",
   "metadata": {},
   "source": [
    "## 4. Simple model with Light GBM\n",
    "TODO"
   ]
  },
  {
   "cell_type": "code",
   "execution_count": 2,
   "id": "ec3b7dd5",
   "metadata": {},
   "outputs": [
    {
     "name": "stdout",
     "output_type": "stream",
     "text": [
      "Cross validation time: 3.729891300201416 seconds\n",
      "Mean score: 0.8575017665775645\n"
     ]
    }
   ],
   "source": [
    "lgbm = LGBMClassifier(random_state=42, verbose=-1)\n",
    "cross_val_summary(lgbm, X_le, y)"
   ]
  },
  {
   "cell_type": "markdown",
   "id": "93f62a54",
   "metadata": {},
   "source": [
    "## 5 Remove 'Vintage' column\n",
    "\n",
    "TODO: add description"
   ]
  },
  {
   "cell_type": "code",
   "execution_count": 6,
   "id": "5dfea145",
   "metadata": {},
   "outputs": [
    {
     "name": "stdout",
     "output_type": "stream",
     "text": [
      "Cross validation time: 3.272094249725342 seconds\n",
      "Mean ROC_AUC without 'Vintage' column: 0.8577693288099889\n"
     ]
    }
   ],
   "source": [
    "cross_val_summary(lgbm, X_le.drop(columns=\"Vintage\"), y, message=\"Mean ROC_AUC without 'Vintage' column: \")"
   ]
  },
  {
   "cell_type": "markdown",
   "id": "0d0a5db7",
   "metadata": {},
   "source": [
    "## 6. StandardScaler vs PowerTransformer vs QuantileTransformer\n",
    "\n",
    "TODO: add description"
   ]
  },
  {
   "cell_type": "code",
   "execution_count": 7,
   "id": "e1f0ab1a",
   "metadata": {},
   "outputs": [
    {
     "name": "stdout",
     "output_type": "stream",
     "text": [
      "Cross validation time: 3.299079179763794 seconds\n",
      "Mean ROC_AUC score without scaler: 0.8577693288099889\n",
      "Cross validation time: 3.50941801071167 seconds\n",
      "Mean ROC_AUC score with scaler: 0.8574143509437648\n"
     ]
    },
    {
     "name": "stderr",
     "output_type": "stream",
     "text": [
      "/home/jsowa/anaconda3/envs/healtenv/lib/python3.8/site-packages/numpy/core/_methods.py:244: RuntimeWarning: overflow encountered in reduce\n",
      "  ret = umr_sum(x, axis, dtype, out, keepdims=keepdims, where=where)\n",
      "/home/jsowa/anaconda3/envs/healtenv/lib/python3.8/site-packages/numpy/core/_methods.py:244: RuntimeWarning: overflow encountered in reduce\n",
      "  ret = umr_sum(x, axis, dtype, out, keepdims=keepdims, where=where)\n",
      "/home/jsowa/anaconda3/envs/healtenv/lib/python3.8/site-packages/numpy/core/_methods.py:233: RuntimeWarning: overflow encountered in multiply\n",
      "  x = um.multiply(x, x, out=x)\n",
      "/home/jsowa/anaconda3/envs/healtenv/lib/python3.8/site-packages/numpy/core/_methods.py:244: RuntimeWarning: overflow encountered in reduce\n",
      "  ret = umr_sum(x, axis, dtype, out, keepdims=keepdims, where=where)\n",
      "/home/jsowa/anaconda3/envs/healtenv/lib/python3.8/site-packages/numpy/core/_methods.py:233: RuntimeWarning: overflow encountered in multiply\n",
      "  x = um.multiply(x, x, out=x)\n",
      "/home/jsowa/anaconda3/envs/healtenv/lib/python3.8/site-packages/numpy/core/_methods.py:244: RuntimeWarning: overflow encountered in reduce\n",
      "  ret = umr_sum(x, axis, dtype, out, keepdims=keepdims, where=where)\n",
      "/home/jsowa/anaconda3/envs/healtenv/lib/python3.8/site-packages/numpy/core/_methods.py:244: RuntimeWarning: overflow encountered in reduce\n",
      "  ret = umr_sum(x, axis, dtype, out, keepdims=keepdims, where=where)\n",
      "/home/jsowa/anaconda3/envs/healtenv/lib/python3.8/site-packages/numpy/core/_methods.py:244: RuntimeWarning: overflow encountered in reduce\n",
      "  ret = umr_sum(x, axis, dtype, out, keepdims=keepdims, where=where)\n",
      "/home/jsowa/anaconda3/envs/healtenv/lib/python3.8/site-packages/numpy/core/_methods.py:244: RuntimeWarning: overflow encountered in reduce\n",
      "  ret = umr_sum(x, axis, dtype, out, keepdims=keepdims, where=where)\n",
      "/home/jsowa/anaconda3/envs/healtenv/lib/python3.8/site-packages/numpy/core/_methods.py:244: RuntimeWarning: overflow encountered in reduce\n",
      "  ret = umr_sum(x, axis, dtype, out, keepdims=keepdims, where=where)\n",
      "/home/jsowa/anaconda3/envs/healtenv/lib/python3.8/site-packages/numpy/core/_methods.py:233: RuntimeWarning: overflow encountered in multiply\n",
      "  x = um.multiply(x, x, out=x)\n",
      "/home/jsowa/anaconda3/envs/healtenv/lib/python3.8/site-packages/numpy/core/_methods.py:244: RuntimeWarning: overflow encountered in reduce\n",
      "  ret = umr_sum(x, axis, dtype, out, keepdims=keepdims, where=where)\n",
      "/home/jsowa/anaconda3/envs/healtenv/lib/python3.8/site-packages/numpy/core/_methods.py:244: RuntimeWarning: overflow encountered in reduce\n",
      "  ret = umr_sum(x, axis, dtype, out, keepdims=keepdims, where=where)\n"
     ]
    },
    {
     "name": "stdout",
     "output_type": "stream",
     "text": [
      "Cross validation time: 19.19187307357788 seconds\n",
      "Mean ROC_AUC score with transformer: 0.8577319440867275\n",
      "Cross validation time: 22.24144411087036 seconds\n",
      "Mean ROC_AUC score with scaler and transformer: 0.8577400779770201\n",
      "Cross validation time: 5.565432548522949 seconds\n",
      "Mean ROC_AUC score with QuantileTransformer (uniform distribution): 0.8576643396361232\n",
      "Cross validation time: 6.502594232559204 seconds\n",
      "Mean ROC_AUC score with QuantileTransformer (normal distribution): 0.8576585510190945\n"
     ]
    }
   ],
   "source": [
    "from sklearn.preprocessing import QuantileTransformer\n",
    "from sklearn.preprocessing import StandardScaler, PowerTransformer\n",
    "\n",
    "# TODO: determine which model returns log about scaling/more iterations\n",
    "def compare_preprocessing(model, X, y):\n",
    "    scaler = StandardScaler()\n",
    "    transformer = PowerTransformer()\n",
    "    scaler_without_std = StandardScaler(with_std=False)\n",
    "    quant_trans_uniform = QuantileTransformer(output_distribution='uniform')\n",
    "    quant_trans_normal = QuantileTransformer(output_distribution='normal')\n",
    "\n",
    "    model_scaler = make_pipeline(scaler, model)\n",
    "    model_transformer = make_pipeline(transformer, model)\n",
    "    model_scaler_transformer = make_pipeline(scaler_without_std, transformer, model)\n",
    "    model_quant_trans_uniform = make_pipeline(quant_trans_uniform, model)\n",
    "    model_quant_trans_normal = make_pipeline(quant_trans_normal, model)\n",
    "\n",
    "    cross_val_summary(model, X, y, message=\"Mean ROC_AUC score without scaler: \")\n",
    "    cross_val_summary(model_scaler, X, y, message=\"Mean ROC_AUC score with scaler: \")\n",
    "    cross_val_summary(model_transformer, X, y, message=\"Mean ROC_AUC score with transformer: \")\n",
    "    cross_val_summary(model_scaler_transformer, X, y, message=\"Mean ROC_AUC score with scaler and transformer: \")\n",
    "    cross_val_summary(model_quant_trans_uniform, X, y, message=\"Mean ROC_AUC score with QuantileTransformer (uniform distribution): \")\n",
    "    cross_val_summary(model_quant_trans_normal, X, y, message=\"Mean ROC_AUC score with QuantileTransformer (normal distribution): \")\n",
    "\n",
    "compare_preprocessing(lgbm, X_le.drop(columns=\"Vintage\"), y)"
   ]
  },
  {
   "cell_type": "markdown",
   "id": "9c3ce13a",
   "metadata": {},
   "source": [
    "The differences between various scaling methods are small, so I need to make more tests after the next steps."
   ]
  },
  {
   "cell_type": "markdown",
   "id": "a5911a32",
   "metadata": {},
   "source": [
    "## 8. Policy_Sales_Channel One Hot Encoding\n",
    "\n",
    "\"Policy_Sales_Channel\" is a categorical column. Algorithms cannot always effectively use this type of data in a single column. For example, channel 2 is not \"smaller\" than channel 4, and channel 3 is not \"between\" them in a mathematical sense. There are some tools addressing this problem. For now I'll use One Hot Encoding. It creates a new column for each of the categories and fills it with 1 if the sample falls into that category and with 0 if it does not."
   ]
  },
  {
   "cell_type": "code",
   "execution_count": 8,
   "id": "88170f53",
   "metadata": {},
   "outputs": [
    {
     "name": "stdout",
     "output_type": "stream",
     "text": [
      "Cross validation time: 6.652437448501587 seconds\n",
      "Mean ROC_AUC score without scaler: 0.8574873160321502\n",
      "Cross validation time: 17.13546371459961 seconds\n",
      "Mean ROC_AUC score with scaler: 0.8577947969646201\n"
     ]
    },
    {
     "name": "stderr",
     "output_type": "stream",
     "text": [
      "/home/jsowa/anaconda3/envs/healtenv/lib/python3.8/site-packages/numpy/core/_methods.py:244: RuntimeWarning: overflow encountered in reduce\n",
      "  ret = umr_sum(x, axis, dtype, out, keepdims=keepdims, where=where)\n",
      "/home/jsowa/anaconda3/envs/healtenv/lib/python3.8/site-packages/sklearn/preprocessing/_data.py:2995: RuntimeWarning: divide by zero encountered in log\n",
      "  loglike = -n_samples / 2 * np.log(x_trans.var())\n",
      "/home/jsowa/anaconda3/envs/healtenv/lib/python3.8/site-packages/numpy/core/_methods.py:244: RuntimeWarning: overflow encountered in reduce\n",
      "  ret = umr_sum(x, axis, dtype, out, keepdims=keepdims, where=where)\n",
      "/home/jsowa/anaconda3/envs/healtenv/lib/python3.8/site-packages/sklearn/preprocessing/_data.py:2995: RuntimeWarning: divide by zero encountered in log\n",
      "  loglike = -n_samples / 2 * np.log(x_trans.var())\n",
      "/home/jsowa/anaconda3/envs/healtenv/lib/python3.8/site-packages/numpy/core/_methods.py:233: RuntimeWarning: overflow encountered in multiply\n",
      "  x = um.multiply(x, x, out=x)\n",
      "/home/jsowa/anaconda3/envs/healtenv/lib/python3.8/site-packages/numpy/core/_methods.py:244: RuntimeWarning: overflow encountered in reduce\n",
      "  ret = umr_sum(x, axis, dtype, out, keepdims=keepdims, where=where)\n",
      "/home/jsowa/anaconda3/envs/healtenv/lib/python3.8/site-packages/numpy/core/_methods.py:233: RuntimeWarning: overflow encountered in multiply\n",
      "  x = um.multiply(x, x, out=x)\n",
      "/home/jsowa/anaconda3/envs/healtenv/lib/python3.8/site-packages/numpy/core/_methods.py:244: RuntimeWarning: overflow encountered in reduce\n",
      "  ret = umr_sum(x, axis, dtype, out, keepdims=keepdims, where=where)\n",
      "/home/jsowa/anaconda3/envs/healtenv/lib/python3.8/site-packages/numpy/core/_methods.py:244: RuntimeWarning: overflow encountered in reduce\n",
      "  ret = umr_sum(x, axis, dtype, out, keepdims=keepdims, where=where)\n",
      "/home/jsowa/anaconda3/envs/healtenv/lib/python3.8/site-packages/numpy/core/_methods.py:244: RuntimeWarning: overflow encountered in reduce\n",
      "  ret = umr_sum(x, axis, dtype, out, keepdims=keepdims, where=where)\n",
      "/home/jsowa/anaconda3/envs/healtenv/lib/python3.8/site-packages/sklearn/preprocessing/_data.py:2995: RuntimeWarning: divide by zero encountered in log\n",
      "  loglike = -n_samples / 2 * np.log(x_trans.var())\n",
      "/home/jsowa/anaconda3/envs/healtenv/lib/python3.8/site-packages/numpy/core/_methods.py:244: RuntimeWarning: overflow encountered in reduce\n",
      "  ret = umr_sum(x, axis, dtype, out, keepdims=keepdims, where=where)\n",
      "/home/jsowa/anaconda3/envs/healtenv/lib/python3.8/site-packages/sklearn/preprocessing/_data.py:2995: RuntimeWarning: divide by zero encountered in log\n",
      "  loglike = -n_samples / 2 * np.log(x_trans.var())\n",
      "/home/jsowa/anaconda3/envs/healtenv/lib/python3.8/site-packages/sklearn/linear_model/_logistic.py:762: ConvergenceWarning: lbfgs failed to converge (status=1):\n",
      "STOP: TOTAL NO. of ITERATIONS REACHED LIMIT.\n",
      "\n",
      "Increase the number of iterations (max_iter) or scale the data as shown in:\n",
      "    https://scikit-learn.org/stable/modules/preprocessing.html\n",
      "Please also refer to the documentation for alternative solver options:\n",
      "    https://scikit-learn.org/stable/modules/linear_model.html#logistic-regression\n",
      "  n_iter_i = _check_optimize_result(\n",
      "/home/jsowa/anaconda3/envs/healtenv/lib/python3.8/site-packages/sklearn/linear_model/_logistic.py:762: ConvergenceWarning: lbfgs failed to converge (status=1):\n",
      "STOP: TOTAL NO. of ITERATIONS REACHED LIMIT.\n",
      "\n",
      "Increase the number of iterations (max_iter) or scale the data as shown in:\n",
      "    https://scikit-learn.org/stable/modules/preprocessing.html\n",
      "Please also refer to the documentation for alternative solver options:\n",
      "    https://scikit-learn.org/stable/modules/linear_model.html#logistic-regression\n",
      "  n_iter_i = _check_optimize_result(\n",
      "/home/jsowa/anaconda3/envs/healtenv/lib/python3.8/site-packages/sklearn/linear_model/_logistic.py:762: ConvergenceWarning: lbfgs failed to converge (status=1):\n",
      "STOP: TOTAL NO. of ITERATIONS REACHED LIMIT.\n",
      "\n",
      "Increase the number of iterations (max_iter) or scale the data as shown in:\n",
      "    https://scikit-learn.org/stable/modules/preprocessing.html\n",
      "Please also refer to the documentation for alternative solver options:\n",
      "    https://scikit-learn.org/stable/modules/linear_model.html#logistic-regression\n",
      "  n_iter_i = _check_optimize_result(\n",
      "/home/jsowa/anaconda3/envs/healtenv/lib/python3.8/site-packages/sklearn/linear_model/_logistic.py:762: ConvergenceWarning: lbfgs failed to converge (status=1):\n",
      "STOP: TOTAL NO. of ITERATIONS REACHED LIMIT.\n",
      "\n",
      "Increase the number of iterations (max_iter) or scale the data as shown in:\n",
      "    https://scikit-learn.org/stable/modules/preprocessing.html\n",
      "Please also refer to the documentation for alternative solver options:\n",
      "    https://scikit-learn.org/stable/modules/linear_model.html#logistic-regression\n",
      "  n_iter_i = _check_optimize_result(\n",
      "/home/jsowa/anaconda3/envs/healtenv/lib/python3.8/site-packages/sklearn/linear_model/_logistic.py:762: ConvergenceWarning: lbfgs failed to converge (status=1):\n",
      "STOP: TOTAL NO. of ITERATIONS REACHED LIMIT.\n",
      "\n",
      "Increase the number of iterations (max_iter) or scale the data as shown in:\n",
      "    https://scikit-learn.org/stable/modules/preprocessing.html\n",
      "Please also refer to the documentation for alternative solver options:\n",
      "    https://scikit-learn.org/stable/modules/linear_model.html#logistic-regression\n",
      "  n_iter_i = _check_optimize_result(\n",
      "/home/jsowa/anaconda3/envs/healtenv/lib/python3.8/site-packages/numpy/core/_methods.py:244: RuntimeWarning: overflow encountered in reduce\n",
      "  ret = umr_sum(x, axis, dtype, out, keepdims=keepdims, where=where)\n",
      "/home/jsowa/anaconda3/envs/healtenv/lib/python3.8/site-packages/sklearn/preprocessing/_data.py:2995: RuntimeWarning: divide by zero encountered in log\n",
      "  loglike = -n_samples / 2 * np.log(x_trans.var())\n",
      "/home/jsowa/anaconda3/envs/healtenv/lib/python3.8/site-packages/numpy/core/_methods.py:233: RuntimeWarning: overflow encountered in multiply\n",
      "  x = um.multiply(x, x, out=x)\n",
      "/home/jsowa/anaconda3/envs/healtenv/lib/python3.8/site-packages/numpy/core/_methods.py:244: RuntimeWarning: overflow encountered in reduce\n",
      "  ret = umr_sum(x, axis, dtype, out, keepdims=keepdims, where=where)\n",
      "/home/jsowa/anaconda3/envs/healtenv/lib/python3.8/site-packages/sklearn/preprocessing/_data.py:2995: RuntimeWarning: divide by zero encountered in log\n",
      "  loglike = -n_samples / 2 * np.log(x_trans.var())\n",
      "/home/jsowa/anaconda3/envs/healtenv/lib/python3.8/site-packages/numpy/core/_methods.py:244: RuntimeWarning: overflow encountered in reduce\n",
      "  ret = umr_sum(x, axis, dtype, out, keepdims=keepdims, where=where)\n",
      "/home/jsowa/anaconda3/envs/healtenv/lib/python3.8/site-packages/sklearn/preprocessing/_data.py:2995: RuntimeWarning: divide by zero encountered in log\n",
      "  loglike = -n_samples / 2 * np.log(x_trans.var())\n"
     ]
    },
    {
     "name": "stdout",
     "output_type": "stream",
     "text": [
      "Cross validation time: 299.45684337615967 seconds\n",
      "Mean ROC_AUC score with transformer: 0.8577408859764913\n"
     ]
    },
    {
     "name": "stderr",
     "output_type": "stream",
     "text": [
      "/home/jsowa/anaconda3/envs/healtenv/lib/python3.8/site-packages/sklearn/preprocessing/_data.py:2995: RuntimeWarning: divide by zero encountered in log\n",
      "  loglike = -n_samples / 2 * np.log(x_trans.var())\n",
      "/home/jsowa/anaconda3/envs/healtenv/lib/python3.8/site-packages/sklearn/preprocessing/_data.py:2995: RuntimeWarning: divide by zero encountered in log\n",
      "  loglike = -n_samples / 2 * np.log(x_trans.var())\n",
      "/home/jsowa/anaconda3/envs/healtenv/lib/python3.8/site-packages/sklearn/preprocessing/_data.py:2995: RuntimeWarning: divide by zero encountered in log\n",
      "  loglike = -n_samples / 2 * np.log(x_trans.var())\n",
      "/home/jsowa/anaconda3/envs/healtenv/lib/python3.8/site-packages/sklearn/preprocessing/_data.py:2995: RuntimeWarning: divide by zero encountered in log\n",
      "  loglike = -n_samples / 2 * np.log(x_trans.var())\n",
      "/home/jsowa/anaconda3/envs/healtenv/lib/python3.8/site-packages/sklearn/preprocessing/_data.py:2995: RuntimeWarning: divide by zero encountered in log\n",
      "  loglike = -n_samples / 2 * np.log(x_trans.var())\n",
      "/home/jsowa/anaconda3/envs/healtenv/lib/python3.8/site-packages/sklearn/preprocessing/_data.py:2995: RuntimeWarning: divide by zero encountered in log\n",
      "  loglike = -n_samples / 2 * np.log(x_trans.var())\n",
      "/home/jsowa/anaconda3/envs/healtenv/lib/python3.8/site-packages/sklearn/preprocessing/_data.py:2995: RuntimeWarning: divide by zero encountered in log\n",
      "  loglike = -n_samples / 2 * np.log(x_trans.var())\n"
     ]
    },
    {
     "name": "stdout",
     "output_type": "stream",
     "text": [
      "Cross validation time: 414.3436620235443 seconds\n",
      "Mean ROC_AUC score with scaler and transformer: 0.8575996426275662\n",
      "Cross validation time: 23.52898359298706 seconds\n",
      "Mean ROC_AUC score with QuantileTransformer (uniform distribution): 0.8576919569781671\n",
      "Cross validation time: 36.257479190826416 seconds\n",
      "Mean ROC_AUC score with QuantileTransformer (normal distribution): 0.8577135371381092\n"
     ]
    }
   ],
   "source": [
    "psc_ohe = pd.get_dummies(X_le[\"Policy_Sales_Channel\"], prefix=\"Policy_Sales_Channel\")\n",
    "X_le_psc = pd.concat([X_le, psc_ohe], axis=1)\n",
    "compare_preprocessing(lgbm, X_le_psc.drop(columns=\"Vintage\"), y)"
   ]
  },
  {
   "cell_type": "markdown",
   "id": "95377b18",
   "metadata": {},
   "source": [
    "I checked - it works worse with dropped original Policy_Sales_Channel column"
   ]
  },
  {
   "cell_type": "markdown",
   "id": "7da556f9",
   "metadata": {},
   "source": [
    "Unfortunately, there are 155 distinct categories. Considering almost 400.000 samples and complex algorithm - this step seriosly slows down training. Additionaly - it generates a lot of column with few \"ones\" and several hundred thousand \"zeros\".\n",
    "\n",
    "How to curb this problem?\n",
    "\n",
    "If given policy sales channel occurs only once in the whole dataset, it can't be used to predict other samples. At first I will eliminate such categories."
   ]
  },
  {
   "cell_type": "code",
   "execution_count": 9,
   "id": "bf227d46",
   "metadata": {},
   "outputs": [
    {
     "name": "stdout",
     "output_type": "stream",
     "text": [
      "Cross validation time: 6.543667793273926 seconds\n",
      "Mean ROC_AUC score without scaler: 0.8574873160321502\n",
      "Cross validation time: 16.693971633911133 seconds\n",
      "Mean ROC_AUC score with scaler: 0.8577947969646201\n"
     ]
    },
    {
     "name": "stderr",
     "output_type": "stream",
     "text": [
      "/home/jsowa/anaconda3/envs/healtenv/lib/python3.8/site-packages/numpy/core/_methods.py:244: RuntimeWarning: overflow encountered in reduce\n",
      "  ret = umr_sum(x, axis, dtype, out, keepdims=keepdims, where=where)\n",
      "/home/jsowa/anaconda3/envs/healtenv/lib/python3.8/site-packages/sklearn/preprocessing/_data.py:2995: RuntimeWarning: divide by zero encountered in log\n",
      "  loglike = -n_samples / 2 * np.log(x_trans.var())\n",
      "/home/jsowa/anaconda3/envs/healtenv/lib/python3.8/site-packages/numpy/core/_methods.py:244: RuntimeWarning: overflow encountered in reduce\n",
      "  ret = umr_sum(x, axis, dtype, out, keepdims=keepdims, where=where)\n",
      "/home/jsowa/anaconda3/envs/healtenv/lib/python3.8/site-packages/numpy/core/_methods.py:233: RuntimeWarning: overflow encountered in multiply\n",
      "  x = um.multiply(x, x, out=x)\n",
      "/home/jsowa/anaconda3/envs/healtenv/lib/python3.8/site-packages/numpy/core/_methods.py:244: RuntimeWarning: overflow encountered in reduce\n",
      "  ret = umr_sum(x, axis, dtype, out, keepdims=keepdims, where=where)\n",
      "/home/jsowa/anaconda3/envs/healtenv/lib/python3.8/site-packages/numpy/core/_methods.py:233: RuntimeWarning: overflow encountered in multiply\n",
      "  x = um.multiply(x, x, out=x)\n",
      "/home/jsowa/anaconda3/envs/healtenv/lib/python3.8/site-packages/numpy/core/_methods.py:244: RuntimeWarning: overflow encountered in reduce\n",
      "  ret = umr_sum(x, axis, dtype, out, keepdims=keepdims, where=where)\n",
      "/home/jsowa/anaconda3/envs/healtenv/lib/python3.8/site-packages/numpy/core/_methods.py:244: RuntimeWarning: overflow encountered in reduce\n",
      "  ret = umr_sum(x, axis, dtype, out, keepdims=keepdims, where=where)\n",
      "/home/jsowa/anaconda3/envs/healtenv/lib/python3.8/site-packages/numpy/core/_methods.py:244: RuntimeWarning: overflow encountered in reduce\n",
      "  ret = umr_sum(x, axis, dtype, out, keepdims=keepdims, where=where)\n",
      "/home/jsowa/anaconda3/envs/healtenv/lib/python3.8/site-packages/numpy/core/_methods.py:244: RuntimeWarning: overflow encountered in reduce\n",
      "  ret = umr_sum(x, axis, dtype, out, keepdims=keepdims, where=where)\n",
      "/home/jsowa/anaconda3/envs/healtenv/lib/python3.8/site-packages/numpy/core/_methods.py:244: RuntimeWarning: overflow encountered in reduce\n",
      "  ret = umr_sum(x, axis, dtype, out, keepdims=keepdims, where=where)\n",
      "/home/jsowa/anaconda3/envs/healtenv/lib/python3.8/site-packages/numpy/core/_methods.py:233: RuntimeWarning: overflow encountered in multiply\n",
      "  x = um.multiply(x, x, out=x)\n",
      "/home/jsowa/anaconda3/envs/healtenv/lib/python3.8/site-packages/numpy/core/_methods.py:244: RuntimeWarning: overflow encountered in reduce\n",
      "  ret = umr_sum(x, axis, dtype, out, keepdims=keepdims, where=where)\n",
      "/home/jsowa/anaconda3/envs/healtenv/lib/python3.8/site-packages/numpy/core/_methods.py:244: RuntimeWarning: overflow encountered in reduce\n",
      "  ret = umr_sum(x, axis, dtype, out, keepdims=keepdims, where=where)\n"
     ]
    },
    {
     "name": "stdout",
     "output_type": "stream",
     "text": [
      "Cross validation time: 283.97425365448 seconds\n",
      "Mean ROC_AUC score with transformer: 0.8577408859764913\n"
     ]
    },
    {
     "name": "stderr",
     "output_type": "stream",
     "text": [
      "/home/jsowa/anaconda3/envs/healtenv/lib/python3.8/site-packages/sklearn/preprocessing/_data.py:2995: RuntimeWarning: divide by zero encountered in log\n",
      "  loglike = -n_samples / 2 * np.log(x_trans.var())\n"
     ]
    },
    {
     "name": "stdout",
     "output_type": "stream",
     "text": [
      "Cross validation time: 394.5038664340973 seconds\n",
      "Mean ROC_AUC score with scaler and transformer: 0.8575996426275662\n",
      "Cross validation time: 22.755218982696533 seconds\n",
      "Mean ROC_AUC score with QuantileTransformer (uniform distribution): 0.8576919569781671\n",
      "Cross validation time: 35.103058099746704 seconds\n",
      "Mean ROC_AUC score with QuantileTransformer (normal distribution): 0.8576189364379558\n"
     ]
    }
   ],
   "source": [
    "psc_ohe = pd.get_dummies(X_le[\"Policy_Sales_Channel\"], prefix=\"Policy_Sales_Channel\")\n",
    "\n",
    "counts = X_le[\"Policy_Sales_Channel\"].value_counts()\n",
    "counts = counts[counts == 1]\n",
    "columns_to_remove = list(map(lambda x: \"Policy_Sales_Channel_\" + str(x), counts.index.tolist()))\n",
    "psc_ohe = psc_ohe.drop(columns=columns_to_remove)\n",
    "\n",
    "X_le_psc = pd.concat([X_le, psc_ohe], axis=1)\n",
    "compare_preprocessing(lgbm, X_le_psc.drop(columns=\"Vintage\"), y)"
   ]
  },
  {
   "cell_type": "code",
   "execution_count": 7,
   "id": "5b71b746",
   "metadata": {},
   "outputs": [
    {
     "data": {
      "text/plain": [
       "152.0    134784\n",
       "26.0      79700\n",
       "124.0     73995\n",
       "160.0     21779\n",
       "156.0     10661\n",
       "          ...  \n",
       "149.0         1\n",
       "143.0         1\n",
       "43.0          1\n",
       "41.0          1\n",
       "84.0          1\n",
       "Name: Policy_Sales_Channel, Length: 155, dtype: int64"
      ]
     },
     "execution_count": 7,
     "metadata": {},
     "output_type": "execute_result"
    }
   ],
   "source": [
    "psc_ohe = pd.get_dummies(X_le[\"Policy_Sales_Channel\"], prefix=\"Policy_Sales_Channel\")\n",
    "\n",
    "counts = X_le[\"Policy_Sales_Channel\"].value_counts()\n",
    "counts = counts[counts == 1]\n",
    "columns_to_remove = list(map(lambda x: \"Policy_Sales_Channel_\" + str(x), counts.index.tolist()))\n",
    "psc_ohe = psc_ohe.drop(columns=columns_to_remove)\n",
    "\n",
    "X_le_psc = pd.concat([X_le, psc_ohe], axis=1)\n",
    "X_le_psc[\"Policy_Sales_Channel\"].value_counts()"
   ]
  },
  {
   "cell_type": "code",
   "execution_count": 58,
   "id": "606da93b",
   "metadata": {},
   "outputs": [
    {
     "name": "stdout",
     "output_type": "stream",
     "text": [
      "Done iterations: 1,2,3,4,5,6,7,8,9,10,11,12,13,14,15,16,17,18,19,20,21,22,23,24,25,26,27,28,29,30,31,32,33,34,35,36,37,38,39,40,41,42,43,44,45,46,47,48,49,50,51,52,53,54,55,56,57,58,59,60,61,62,63,64,65,66,67,"
     ]
    },
    {
     "data": {
      "text/plain": [
       "[<matplotlib.lines.Line2D at 0x7f7c9debfdc0>]"
      ]
     },
     "execution_count": 58,
     "metadata": {},
     "output_type": "execute_result"
    },
    {
     "data": {
      "image/png": "[encoded data removed]",
      "text/plain": [
       "<Figure size 432x288 with 1 Axes>"
      ]
     },
     "metadata": {
      "needs_background": "light"
     },
     "output_type": "display_data"
    }
   ],
   "source": [
    "# X_le_psc[\"Policy_Sales_Channel\"].value_counts().index[147]\n",
    "\n",
    "from sklearn.preprocessing import QuantileTransformer\n",
    "import warnings\n",
    "warnings.filterwarnings(\"ignore\")\n",
    "\n",
    "value_counts = X_le_psc[\"Policy_Sales_Channel\"].value_counts().index\n",
    "value_counts[147]\n",
    "quant_trans_uniform = QuantileTransformer(output_distribution='uniform')\n",
    "model = make_pipeline(quant_trans_uniform, lgbm)\n",
    "scores = []\n",
    "\n",
    "iteration = 0\n",
    "print('Done iterations: ', end='')\n",
    "for x in range(147, 80, -1):\n",
    "    iteration+=1\n",
    "    columns_to_remove = list(map(lambda x: \"Policy_Sales_Channel_\" + str(value_counts[x]), [*range(147, x-1, -1)]))\n",
    "    columns_to_remove += ['Vintage']\n",
    "#     X_le_psc.drop(columns=columns_to_remove)\n",
    "    score = cross_val_score(model, X_le_psc.drop(columns=columns_to_remove), y, cv=10, scoring='roc_auc').mean()\n",
    "    scores += [score]\n",
    "    print(str(iteration) + \",\", end='')\n",
    "\n",
    "scores_series = pd.Series(scores)\n",
    "plt.plot(scores_series.index, scores_series.values)"
   ]
  },
  {
   "cell_type": "code",
   "execution_count": 60,
   "id": "e989a2ec",
   "metadata": {},
   "outputs": [
    {
     "data": {
      "text/plain": [
       "49    0.857692\n",
       "61    0.857692\n",
       "58    0.857692\n",
       "19    0.857692\n",
       "55    0.857692\n",
       "        ...   \n",
       "24    0.857692\n",
       "65    0.857735\n",
       "64    0.857735\n",
       "66    0.857738\n",
       "9     0.857795\n",
       "Length: 67, dtype: float64"
      ]
     },
     "execution_count": 60,
     "metadata": {},
     "output_type": "execute_result"
    }
   ],
   "source": [
    "scores_series.sort_values()"
   ]
  },
  {
   "cell_type": "code",
   "execution_count": 61,
   "id": "ac38f457",
   "metadata": {},
   "outputs": [
    {
     "name": "stdout",
     "output_type": "stream",
     "text": [
      "Done iterations: 1,2,3,4,5,6,7,8,9,10,11,12,13,14,15,16,17,18,19,20,21,22,23,24,25,26,27,28,29,30,31,32,33,34,35,36,37,38,39,40,41,42,43,44,45,46,47,48,49,50,51,52,53,54,55,56,57,58,59,60,61,62,63,64,65,66,67,68,69,70,71,72,73,74,75,76,77,78,79,"
     ]
    },
    {
     "data": {
      "text/plain": [
       "[<matplotlib.lines.Line2D at 0x7f7c9ddc70a0>]"
      ]
     },
     "execution_count": 61,
     "metadata": {},
     "output_type": "execute_result"
    },
    {
     "data": {
      "image/png": "[encoded data removed]",
      "text/plain": [
       "<Figure size 432x288 with 1 Axes>"
      ]
     },
     "metadata": {
      "needs_background": "light"
     },
     "output_type": "display_data"
    }
   ],
   "source": [
    "# X_le_psc[\"Policy_Sales_Channel\"].value_counts().index[147]\n",
    "\n",
    "from sklearn.preprocessing import QuantileTransformer\n",
    "import warnings\n",
    "warnings.filterwarnings(\"ignore\")\n",
    "\n",
    "value_counts = X_le_psc[\"Policy_Sales_Channel\"].value_counts().index\n",
    "value_counts[147]\n",
    "quant_trans_uniform = QuantileTransformer(output_distribution='uniform')\n",
    "model = make_pipeline(quant_trans_uniform, lgbm)\n",
    "scores2 = []\n",
    "\n",
    "iteration = 0\n",
    "print('Done iterations: ', end='')\n",
    "for x in range(80, 1, -1):\n",
    "    iteration+=1\n",
    "    columns_to_remove = list(map(lambda x: \"Policy_Sales_Channel_\" + str(value_counts[x]), [*range(147, x-1, -1)]))\n",
    "    columns_to_remove += ['Vintage']\n",
    "#     X_le_psc.drop(columns=columns_to_remove)\n",
    "    score = cross_val_score(model, X_le_psc.drop(columns=columns_to_remove), y, cv=10, scoring='roc_auc').mean()\n",
    "    scores2 += [score]\n",
    "    print(str(iteration) + \",\", end='')\n",
    "\n",
    "scores_series2 = pd.Series(scores2)\n",
    "plt.plot(scores_series2.index, scores_series2.values)"
   ]
  },
  {
   "cell_type": "code",
   "execution_count": 62,
   "id": "440aadef",
   "metadata": {},
   "outputs": [
    {
     "data": {
      "text/plain": [
       "77    0.857413\n",
       "76    0.857453\n",
       "58    0.857495\n",
       "8     0.857521\n",
       "9     0.857521\n",
       "        ...   \n",
       "50    0.857797\n",
       "47    0.857804\n",
       "44    0.857850\n",
       "42    0.857853\n",
       "43    0.857862\n",
       "Length: 79, dtype: float64"
      ]
     },
     "execution_count": 62,
     "metadata": {},
     "output_type": "execute_result"
    }
   ],
   "source": [
    "scores_series2.sort_values()"
   ]
  },
  {
   "cell_type": "code",
   "execution_count": 64,
   "id": "cf7aa9ab",
   "metadata": {},
   "outputs": [
    {
     "name": "stdout",
     "output_type": "stream",
     "text": [
      "Done iterations: 1,2,3,4,5,6,7,8,9,10,11,12,13,14,15,16,17,18,19,20,21,22,23,24,25,26,27,28,29,30,31,32,33,34,35,36,37,38,39,40,41,42,43,44,45,46,47,48,49,50,51,52,53,54,55,56,57,58,59,60,61,62,63,64,65,66,67,68,69,70,71,72,73,74,75,76,77,78,79,80,81,82,83,84,85,86,87,88,89,90,91,92,93,94,95,96,97,98,99,100,101,102,103,104,105,106,107,108,109,110,111,112,113,114,115,116,117,118,119,120,121,122,123,124,125,126,127,128,129,130,131,132,133,134,135,136,137,138,139,140,141,142,143,144,145,146,"
     ]
    },
    {
     "data": {
      "text/plain": [
       "[<matplotlib.lines.Line2D at 0x7f7c9dd1f5e0>]"
      ]
     },
     "execution_count": 64,
     "metadata": {},
     "output_type": "execute_result"
    },
    {
     "data": {
      "image/png": "[encoded data removed]",
      "text/plain": [
       "<Figure size 432x288 with 1 Axes>"
      ]
     },
     "metadata": {
      "needs_background": "light"
     },
     "output_type": "display_data"
    }
   ],
   "source": [
    "# X_le_psc[\"Policy_Sales_Channel\"].value_counts().index[147]\n",
    "\n",
    "from sklearn.preprocessing import QuantileTransformer\n",
    "import warnings\n",
    "warnings.filterwarnings(\"ignore\")\n",
    "\n",
    "value_counts = X_le_psc[\"Policy_Sales_Channel\"].value_counts().index\n",
    "value_counts[147]\n",
    "quant_trans_uniform = QuantileTransformer(output_distribution='uniform')\n",
    "model = make_pipeline(quant_trans_uniform, lgbm)\n",
    "scores = []\n",
    "\n",
    "iteration = 0\n",
    "print('Done iterations: ', end='')\n",
    "for x in range(147, 1, -1):\n",
    "    iteration+=1\n",
    "    columns_to_remove = list(map(lambda x: \"Policy_Sales_Channel_\" + str(value_counts[x]), [*range(147, x-1, -1)]))\n",
    "    columns_to_remove += ['Vintage']\n",
    "#     X_le_psc.drop(columns=columns_to_remove)\n",
    "    score = cross_val_score(model, X_le_psc.drop(columns=columns_to_remove), y, cv=10, scoring='roc_auc').mean()\n",
    "    scores += [score]\n",
    "    print(str(iteration) + \",\", end='')\n",
    "\n",
    "scores_series3 = pd.Series(scores)\n",
    "plt.plot(scores_series.index, scores_series.values)"
   ]
  },
  {
   "cell_type": "code",
   "execution_count": 67,
   "id": "db842358",
   "metadata": {},
   "outputs": [
    {
     "data": {
      "text/plain": [
       "[<matplotlib.lines.Line2D at 0x7f7c9dcf6490>]"
      ]
     },
     "execution_count": 67,
     "metadata": {},
     "output_type": "execute_result"
    },
    {
     "data": {
      "image/png": "[encoded data removed]",
      "text/plain": [
       "<Figure size 432x288 with 1 Axes>"
      ]
     },
     "metadata": {
      "needs_background": "light"
     },
     "output_type": "display_data"
    }
   ],
   "source": [
    "plt.plot(scores_series3.index, scores_series3.values)"
   ]
  },
  {
   "cell_type": "code",
   "execution_count": null,
   "id": "db7487c9",
   "metadata": {},
   "outputs": [],
   "source": []
  },
  {
   "cell_type": "code",
   "execution_count": 65,
   "id": "f3d185f0",
   "metadata": {},
   "outputs": [
    {
     "data": {
      "text/plain": [
       "144    0.857413\n",
       "143    0.857453\n",
       "125    0.857495\n",
       "75     0.857521\n",
       "76     0.857521\n",
       "         ...   \n",
       "116    0.857797\n",
       "114    0.857804\n",
       "111    0.857850\n",
       "109    0.857853\n",
       "110    0.857862\n",
       "Length: 146, dtype: float64"
      ]
     },
     "execution_count": 65,
     "metadata": {},
     "output_type": "execute_result"
    }
   ],
   "source": [
    "scores_series3.sort_values()"
   ]
  },
  {
   "cell_type": "code",
   "execution_count": 66,
   "id": "2b0a22bb",
   "metadata": {},
   "outputs": [
    {
     "data": {
      "text/plain": [
       "0      0.857692\n",
       "1      0.857692\n",
       "2      0.857692\n",
       "3      0.857692\n",
       "4      0.857692\n",
       "         ...   \n",
       "141    0.857760\n",
       "142    0.857604\n",
       "143    0.857453\n",
       "144    0.857413\n",
       "145    0.857593\n",
       "Length: 146, dtype: float64"
      ]
     },
     "execution_count": 66,
     "metadata": {},
     "output_type": "execute_result"
    }
   ],
   "source": [
    "scores_series3"
   ]
  },
  {
   "cell_type": "markdown",
   "id": "08be0c0d",
   "metadata": {},
   "source": [
    "## TargetEncoding on Region_Code"
   ]
  },
  {
   "cell_type": "code",
   "execution_count": 11,
   "id": "5f65a70d",
   "metadata": {},
   "outputs": [
    {
     "name": "stderr",
     "output_type": "stream",
     "text": [
      "/home/jsowa/anaconda3/envs/healtenv/lib/python3.8/site-packages/category_encoders/utils.py:21: FutureWarning: is_categorical is deprecated and will be removed in a future version.  Use is_categorical_dtype instead\n",
      "  elif pd.api.types.is_categorical(cols):\n",
      "/home/jsowa/anaconda3/envs/healtenv/lib/python3.8/site-packages/category_encoders/utils.py:21: FutureWarning: is_categorical is deprecated and will be removed in a future version.  Use is_categorical_dtype instead\n",
      "  elif pd.api.types.is_categorical(cols):\n",
      "/home/jsowa/anaconda3/envs/healtenv/lib/python3.8/site-packages/category_encoders/utils.py:21: FutureWarning: is_categorical is deprecated and will be removed in a future version.  Use is_categorical_dtype instead\n",
      "  elif pd.api.types.is_categorical(cols):\n",
      "/home/jsowa/anaconda3/envs/healtenv/lib/python3.8/site-packages/category_encoders/utils.py:21: FutureWarning: is_categorical is deprecated and will be removed in a future version.  Use is_categorical_dtype instead\n",
      "  elif pd.api.types.is_categorical(cols):\n",
      "/home/jsowa/anaconda3/envs/healtenv/lib/python3.8/site-packages/category_encoders/utils.py:21: FutureWarning: is_categorical is deprecated and will be removed in a future version.  Use is_categorical_dtype instead\n",
      "  elif pd.api.types.is_categorical(cols):\n",
      "/home/jsowa/anaconda3/envs/healtenv/lib/python3.8/site-packages/category_encoders/utils.py:21: FutureWarning: is_categorical is deprecated and will be removed in a future version.  Use is_categorical_dtype instead\n",
      "  elif pd.api.types.is_categorical(cols):\n",
      "/home/jsowa/anaconda3/envs/healtenv/lib/python3.8/site-packages/category_encoders/utils.py:21: FutureWarning: is_categorical is deprecated and will be removed in a future version.  Use is_categorical_dtype instead\n",
      "  elif pd.api.types.is_categorical(cols):\n",
      "/home/jsowa/anaconda3/envs/healtenv/lib/python3.8/site-packages/category_encoders/utils.py:21: FutureWarning: is_categorical is deprecated and will be removed in a future version.  Use is_categorical_dtype instead\n",
      "  elif pd.api.types.is_categorical(cols):\n",
      "/home/jsowa/anaconda3/envs/healtenv/lib/python3.8/site-packages/category_encoders/utils.py:21: FutureWarning: is_categorical is deprecated and will be removed in a future version.  Use is_categorical_dtype instead\n",
      "  elif pd.api.types.is_categorical(cols):\n",
      "/home/jsowa/anaconda3/envs/healtenv/lib/python3.8/site-packages/category_encoders/utils.py:21: FutureWarning: is_categorical is deprecated and will be removed in a future version.  Use is_categorical_dtype instead\n",
      "  elif pd.api.types.is_categorical(cols):\n"
     ]
    },
    {
     "name": "stdout",
     "output_type": "stream",
     "text": [
      "Cross validation time: 8.050952434539795 seconds\n",
      "Mean ROC_AUC score without scaler: 0.8579067916687162\n"
     ]
    },
    {
     "name": "stderr",
     "output_type": "stream",
     "text": [
      "/home/jsowa/anaconda3/envs/healtenv/lib/python3.8/site-packages/category_encoders/utils.py:21: FutureWarning: is_categorical is deprecated and will be removed in a future version.  Use is_categorical_dtype instead\n",
      "  elif pd.api.types.is_categorical(cols):\n",
      "/home/jsowa/anaconda3/envs/healtenv/lib/python3.8/site-packages/category_encoders/utils.py:21: FutureWarning: is_categorical is deprecated and will be removed in a future version.  Use is_categorical_dtype instead\n",
      "  elif pd.api.types.is_categorical(cols):\n",
      "/home/jsowa/anaconda3/envs/healtenv/lib/python3.8/site-packages/category_encoders/utils.py:21: FutureWarning: is_categorical is deprecated and will be removed in a future version.  Use is_categorical_dtype instead\n",
      "  elif pd.api.types.is_categorical(cols):\n",
      "/home/jsowa/anaconda3/envs/healtenv/lib/python3.8/site-packages/category_encoders/utils.py:21: FutureWarning: is_categorical is deprecated and will be removed in a future version.  Use is_categorical_dtype instead\n",
      "  elif pd.api.types.is_categorical(cols):\n",
      "/home/jsowa/anaconda3/envs/healtenv/lib/python3.8/site-packages/category_encoders/utils.py:21: FutureWarning: is_categorical is deprecated and will be removed in a future version.  Use is_categorical_dtype instead\n",
      "  elif pd.api.types.is_categorical(cols):\n",
      "/home/jsowa/anaconda3/envs/healtenv/lib/python3.8/site-packages/category_encoders/utils.py:21: FutureWarning: is_categorical is deprecated and will be removed in a future version.  Use is_categorical_dtype instead\n",
      "  elif pd.api.types.is_categorical(cols):\n",
      "/home/jsowa/anaconda3/envs/healtenv/lib/python3.8/site-packages/category_encoders/utils.py:21: FutureWarning: is_categorical is deprecated and will be removed in a future version.  Use is_categorical_dtype instead\n",
      "  elif pd.api.types.is_categorical(cols):\n",
      "/home/jsowa/anaconda3/envs/healtenv/lib/python3.8/site-packages/category_encoders/utils.py:21: FutureWarning: is_categorical is deprecated and will be removed in a future version.  Use is_categorical_dtype instead\n",
      "  elif pd.api.types.is_categorical(cols):\n",
      "/home/jsowa/anaconda3/envs/healtenv/lib/python3.8/site-packages/category_encoders/utils.py:21: FutureWarning: is_categorical is deprecated and will be removed in a future version.  Use is_categorical_dtype instead\n",
      "  elif pd.api.types.is_categorical(cols):\n",
      "/home/jsowa/anaconda3/envs/healtenv/lib/python3.8/site-packages/category_encoders/utils.py:21: FutureWarning: is_categorical is deprecated and will be removed in a future version.  Use is_categorical_dtype instead\n",
      "  elif pd.api.types.is_categorical(cols):\n"
     ]
    },
    {
     "name": "stdout",
     "output_type": "stream",
     "text": [
      "Cross validation time: 17.94546604156494 seconds\n",
      "Mean ROC_AUC score with scaler: 0.8578644642287532\n"
     ]
    },
    {
     "name": "stderr",
     "output_type": "stream",
     "text": [
      "/home/jsowa/anaconda3/envs/healtenv/lib/python3.8/site-packages/category_encoders/utils.py:21: FutureWarning: is_categorical is deprecated and will be removed in a future version.  Use is_categorical_dtype instead\n",
      "  elif pd.api.types.is_categorical(cols):\n",
      "/home/jsowa/anaconda3/envs/healtenv/lib/python3.8/site-packages/numpy/core/_methods.py:244: RuntimeWarning: overflow encountered in reduce\n",
      "  ret = umr_sum(x, axis, dtype, out, keepdims=keepdims, where=where)\n",
      "/home/jsowa/anaconda3/envs/healtenv/lib/python3.8/site-packages/sklearn/preprocessing/_data.py:2995: RuntimeWarning: divide by zero encountered in log\n",
      "  loglike = -n_samples / 2 * np.log(x_trans.var())\n",
      "/home/jsowa/anaconda3/envs/healtenv/lib/python3.8/site-packages/category_encoders/utils.py:21: FutureWarning: is_categorical is deprecated and will be removed in a future version.  Use is_categorical_dtype instead\n",
      "  elif pd.api.types.is_categorical(cols):\n",
      "/home/jsowa/anaconda3/envs/healtenv/lib/python3.8/site-packages/numpy/core/_methods.py:244: RuntimeWarning: overflow encountered in reduce\n",
      "  ret = umr_sum(x, axis, dtype, out, keepdims=keepdims, where=where)\n",
      "/home/jsowa/anaconda3/envs/healtenv/lib/python3.8/site-packages/category_encoders/utils.py:21: FutureWarning: is_categorical is deprecated and will be removed in a future version.  Use is_categorical_dtype instead\n",
      "  elif pd.api.types.is_categorical(cols):\n",
      "/home/jsowa/anaconda3/envs/healtenv/lib/python3.8/site-packages/numpy/core/_methods.py:233: RuntimeWarning: overflow encountered in multiply\n",
      "  x = um.multiply(x, x, out=x)\n",
      "/home/jsowa/anaconda3/envs/healtenv/lib/python3.8/site-packages/numpy/core/_methods.py:244: RuntimeWarning: overflow encountered in reduce\n",
      "  ret = umr_sum(x, axis, dtype, out, keepdims=keepdims, where=where)\n",
      "/home/jsowa/anaconda3/envs/healtenv/lib/python3.8/site-packages/category_encoders/utils.py:21: FutureWarning: is_categorical is deprecated and will be removed in a future version.  Use is_categorical_dtype instead\n",
      "  elif pd.api.types.is_categorical(cols):\n",
      "/home/jsowa/anaconda3/envs/healtenv/lib/python3.8/site-packages/numpy/core/_methods.py:233: RuntimeWarning: overflow encountered in multiply\n",
      "  x = um.multiply(x, x, out=x)\n",
      "/home/jsowa/anaconda3/envs/healtenv/lib/python3.8/site-packages/numpy/core/_methods.py:244: RuntimeWarning: overflow encountered in reduce\n",
      "  ret = umr_sum(x, axis, dtype, out, keepdims=keepdims, where=where)\n",
      "/home/jsowa/anaconda3/envs/healtenv/lib/python3.8/site-packages/category_encoders/utils.py:21: FutureWarning: is_categorical is deprecated and will be removed in a future version.  Use is_categorical_dtype instead\n",
      "  elif pd.api.types.is_categorical(cols):\n",
      "/home/jsowa/anaconda3/envs/healtenv/lib/python3.8/site-packages/numpy/core/_methods.py:244: RuntimeWarning: overflow encountered in reduce\n",
      "  ret = umr_sum(x, axis, dtype, out, keepdims=keepdims, where=where)\n",
      "/home/jsowa/anaconda3/envs/healtenv/lib/python3.8/site-packages/category_encoders/utils.py:21: FutureWarning: is_categorical is deprecated and will be removed in a future version.  Use is_categorical_dtype instead\n",
      "  elif pd.api.types.is_categorical(cols):\n",
      "/home/jsowa/anaconda3/envs/healtenv/lib/python3.8/site-packages/numpy/core/_methods.py:244: RuntimeWarning: overflow encountered in reduce\n",
      "  ret = umr_sum(x, axis, dtype, out, keepdims=keepdims, where=where)\n",
      "/home/jsowa/anaconda3/envs/healtenv/lib/python3.8/site-packages/category_encoders/utils.py:21: FutureWarning: is_categorical is deprecated and will be removed in a future version.  Use is_categorical_dtype instead\n",
      "  elif pd.api.types.is_categorical(cols):\n",
      "/home/jsowa/anaconda3/envs/healtenv/lib/python3.8/site-packages/numpy/core/_methods.py:244: RuntimeWarning: overflow encountered in reduce\n",
      "  ret = umr_sum(x, axis, dtype, out, keepdims=keepdims, where=where)\n",
      "/home/jsowa/anaconda3/envs/healtenv/lib/python3.8/site-packages/category_encoders/utils.py:21: FutureWarning: is_categorical is deprecated and will be removed in a future version.  Use is_categorical_dtype instead\n",
      "  elif pd.api.types.is_categorical(cols):\n",
      "/home/jsowa/anaconda3/envs/healtenv/lib/python3.8/site-packages/numpy/core/_methods.py:244: RuntimeWarning: overflow encountered in reduce\n",
      "  ret = umr_sum(x, axis, dtype, out, keepdims=keepdims, where=where)\n",
      "/home/jsowa/anaconda3/envs/healtenv/lib/python3.8/site-packages/category_encoders/utils.py:21: FutureWarning: is_categorical is deprecated and will be removed in a future version.  Use is_categorical_dtype instead\n",
      "  elif pd.api.types.is_categorical(cols):\n",
      "/home/jsowa/anaconda3/envs/healtenv/lib/python3.8/site-packages/numpy/core/_methods.py:233: RuntimeWarning: overflow encountered in multiply\n",
      "  x = um.multiply(x, x, out=x)\n",
      "/home/jsowa/anaconda3/envs/healtenv/lib/python3.8/site-packages/numpy/core/_methods.py:244: RuntimeWarning: overflow encountered in reduce\n",
      "  ret = umr_sum(x, axis, dtype, out, keepdims=keepdims, where=where)\n",
      "/home/jsowa/anaconda3/envs/healtenv/lib/python3.8/site-packages/category_encoders/utils.py:21: FutureWarning: is_categorical is deprecated and will be removed in a future version.  Use is_categorical_dtype instead\n",
      "  elif pd.api.types.is_categorical(cols):\n",
      "/home/jsowa/anaconda3/envs/healtenv/lib/python3.8/site-packages/numpy/core/_methods.py:244: RuntimeWarning: overflow encountered in reduce\n",
      "  ret = umr_sum(x, axis, dtype, out, keepdims=keepdims, where=where)\n"
     ]
    },
    {
     "name": "stdout",
     "output_type": "stream",
     "text": [
      "Cross validation time: 287.2157678604126 seconds\n",
      "Mean ROC_AUC score with transformer: 0.857810827674418\n"
     ]
    },
    {
     "name": "stderr",
     "output_type": "stream",
     "text": [
      "/home/jsowa/anaconda3/envs/healtenv/lib/python3.8/site-packages/category_encoders/utils.py:21: FutureWarning: is_categorical is deprecated and will be removed in a future version.  Use is_categorical_dtype instead\n",
      "  elif pd.api.types.is_categorical(cols):\n",
      "/home/jsowa/anaconda3/envs/healtenv/lib/python3.8/site-packages/sklearn/preprocessing/_data.py:2995: RuntimeWarning: divide by zero encountered in log\n",
      "  loglike = -n_samples / 2 * np.log(x_trans.var())\n",
      "/home/jsowa/anaconda3/envs/healtenv/lib/python3.8/site-packages/category_encoders/utils.py:21: FutureWarning: is_categorical is deprecated and will be removed in a future version.  Use is_categorical_dtype instead\n",
      "  elif pd.api.types.is_categorical(cols):\n",
      "/home/jsowa/anaconda3/envs/healtenv/lib/python3.8/site-packages/category_encoders/utils.py:21: FutureWarning: is_categorical is deprecated and will be removed in a future version.  Use is_categorical_dtype instead\n",
      "  elif pd.api.types.is_categorical(cols):\n",
      "/home/jsowa/anaconda3/envs/healtenv/lib/python3.8/site-packages/category_encoders/utils.py:21: FutureWarning: is_categorical is deprecated and will be removed in a future version.  Use is_categorical_dtype instead\n",
      "  elif pd.api.types.is_categorical(cols):\n",
      "/home/jsowa/anaconda3/envs/healtenv/lib/python3.8/site-packages/category_encoders/utils.py:21: FutureWarning: is_categorical is deprecated and will be removed in a future version.  Use is_categorical_dtype instead\n",
      "  elif pd.api.types.is_categorical(cols):\n",
      "/home/jsowa/anaconda3/envs/healtenv/lib/python3.8/site-packages/category_encoders/utils.py:21: FutureWarning: is_categorical is deprecated and will be removed in a future version.  Use is_categorical_dtype instead\n",
      "  elif pd.api.types.is_categorical(cols):\n",
      "/home/jsowa/anaconda3/envs/healtenv/lib/python3.8/site-packages/category_encoders/utils.py:21: FutureWarning: is_categorical is deprecated and will be removed in a future version.  Use is_categorical_dtype instead\n",
      "  elif pd.api.types.is_categorical(cols):\n",
      "/home/jsowa/anaconda3/envs/healtenv/lib/python3.8/site-packages/category_encoders/utils.py:21: FutureWarning: is_categorical is deprecated and will be removed in a future version.  Use is_categorical_dtype instead\n",
      "  elif pd.api.types.is_categorical(cols):\n",
      "/home/jsowa/anaconda3/envs/healtenv/lib/python3.8/site-packages/category_encoders/utils.py:21: FutureWarning: is_categorical is deprecated and will be removed in a future version.  Use is_categorical_dtype instead\n",
      "  elif pd.api.types.is_categorical(cols):\n",
      "/home/jsowa/anaconda3/envs/healtenv/lib/python3.8/site-packages/category_encoders/utils.py:21: FutureWarning: is_categorical is deprecated and will be removed in a future version.  Use is_categorical_dtype instead\n",
      "  elif pd.api.types.is_categorical(cols):\n"
     ]
    },
    {
     "name": "stdout",
     "output_type": "stream",
     "text": [
      "Cross validation time: 396.45464539527893 seconds\n",
      "Mean ROC_AUC score with scaler and transformer: 0.8579116254040393\n"
     ]
    },
    {
     "name": "stderr",
     "output_type": "stream",
     "text": [
      "/home/jsowa/anaconda3/envs/healtenv/lib/python3.8/site-packages/category_encoders/utils.py:21: FutureWarning: is_categorical is deprecated and will be removed in a future version.  Use is_categorical_dtype instead\n",
      "  elif pd.api.types.is_categorical(cols):\n",
      "/home/jsowa/anaconda3/envs/healtenv/lib/python3.8/site-packages/category_encoders/utils.py:21: FutureWarning: is_categorical is deprecated and will be removed in a future version.  Use is_categorical_dtype instead\n",
      "  elif pd.api.types.is_categorical(cols):\n",
      "/home/jsowa/anaconda3/envs/healtenv/lib/python3.8/site-packages/category_encoders/utils.py:21: FutureWarning: is_categorical is deprecated and will be removed in a future version.  Use is_categorical_dtype instead\n",
      "  elif pd.api.types.is_categorical(cols):\n",
      "/home/jsowa/anaconda3/envs/healtenv/lib/python3.8/site-packages/category_encoders/utils.py:21: FutureWarning: is_categorical is deprecated and will be removed in a future version.  Use is_categorical_dtype instead\n",
      "  elif pd.api.types.is_categorical(cols):\n",
      "/home/jsowa/anaconda3/envs/healtenv/lib/python3.8/site-packages/category_encoders/utils.py:21: FutureWarning: is_categorical is deprecated and will be removed in a future version.  Use is_categorical_dtype instead\n",
      "  elif pd.api.types.is_categorical(cols):\n",
      "/home/jsowa/anaconda3/envs/healtenv/lib/python3.8/site-packages/category_encoders/utils.py:21: FutureWarning: is_categorical is deprecated and will be removed in a future version.  Use is_categorical_dtype instead\n",
      "  elif pd.api.types.is_categorical(cols):\n",
      "/home/jsowa/anaconda3/envs/healtenv/lib/python3.8/site-packages/category_encoders/utils.py:21: FutureWarning: is_categorical is deprecated and will be removed in a future version.  Use is_categorical_dtype instead\n",
      "  elif pd.api.types.is_categorical(cols):\n",
      "/home/jsowa/anaconda3/envs/healtenv/lib/python3.8/site-packages/category_encoders/utils.py:21: FutureWarning: is_categorical is deprecated and will be removed in a future version.  Use is_categorical_dtype instead\n",
      "  elif pd.api.types.is_categorical(cols):\n",
      "/home/jsowa/anaconda3/envs/healtenv/lib/python3.8/site-packages/category_encoders/utils.py:21: FutureWarning: is_categorical is deprecated and will be removed in a future version.  Use is_categorical_dtype instead\n",
      "  elif pd.api.types.is_categorical(cols):\n",
      "/home/jsowa/anaconda3/envs/healtenv/lib/python3.8/site-packages/category_encoders/utils.py:21: FutureWarning: is_categorical is deprecated and will be removed in a future version.  Use is_categorical_dtype instead\n",
      "  elif pd.api.types.is_categorical(cols):\n"
     ]
    },
    {
     "name": "stdout",
     "output_type": "stream",
     "text": [
      "Cross validation time: 24.58550500869751 seconds\n",
      "Mean ROC_AUC score with QuantileTransformer (uniform distribution): 0.8580732487032112\n"
     ]
    },
    {
     "name": "stderr",
     "output_type": "stream",
     "text": [
      "/home/jsowa/anaconda3/envs/healtenv/lib/python3.8/site-packages/category_encoders/utils.py:21: FutureWarning: is_categorical is deprecated and will be removed in a future version.  Use is_categorical_dtype instead\n",
      "  elif pd.api.types.is_categorical(cols):\n",
      "/home/jsowa/anaconda3/envs/healtenv/lib/python3.8/site-packages/category_encoders/utils.py:21: FutureWarning: is_categorical is deprecated and will be removed in a future version.  Use is_categorical_dtype instead\n",
      "  elif pd.api.types.is_categorical(cols):\n",
      "/home/jsowa/anaconda3/envs/healtenv/lib/python3.8/site-packages/category_encoders/utils.py:21: FutureWarning: is_categorical is deprecated and will be removed in a future version.  Use is_categorical_dtype instead\n",
      "  elif pd.api.types.is_categorical(cols):\n",
      "/home/jsowa/anaconda3/envs/healtenv/lib/python3.8/site-packages/category_encoders/utils.py:21: FutureWarning: is_categorical is deprecated and will be removed in a future version.  Use is_categorical_dtype instead\n",
      "  elif pd.api.types.is_categorical(cols):\n",
      "/home/jsowa/anaconda3/envs/healtenv/lib/python3.8/site-packages/category_encoders/utils.py:21: FutureWarning: is_categorical is deprecated and will be removed in a future version.  Use is_categorical_dtype instead\n",
      "  elif pd.api.types.is_categorical(cols):\n",
      "/home/jsowa/anaconda3/envs/healtenv/lib/python3.8/site-packages/category_encoders/utils.py:21: FutureWarning: is_categorical is deprecated and will be removed in a future version.  Use is_categorical_dtype instead\n",
      "  elif pd.api.types.is_categorical(cols):\n",
      "/home/jsowa/anaconda3/envs/healtenv/lib/python3.8/site-packages/category_encoders/utils.py:21: FutureWarning: is_categorical is deprecated and will be removed in a future version.  Use is_categorical_dtype instead\n",
      "  elif pd.api.types.is_categorical(cols):\n",
      "/home/jsowa/anaconda3/envs/healtenv/lib/python3.8/site-packages/category_encoders/utils.py:21: FutureWarning: is_categorical is deprecated and will be removed in a future version.  Use is_categorical_dtype instead\n",
      "  elif pd.api.types.is_categorical(cols):\n",
      "/home/jsowa/anaconda3/envs/healtenv/lib/python3.8/site-packages/category_encoders/utils.py:21: FutureWarning: is_categorical is deprecated and will be removed in a future version.  Use is_categorical_dtype instead\n",
      "  elif pd.api.types.is_categorical(cols):\n",
      "/home/jsowa/anaconda3/envs/healtenv/lib/python3.8/site-packages/category_encoders/utils.py:21: FutureWarning: is_categorical is deprecated and will be removed in a future version.  Use is_categorical_dtype instead\n",
      "  elif pd.api.types.is_categorical(cols):\n"
     ]
    },
    {
     "name": "stdout",
     "output_type": "stream",
     "text": [
      "Cross validation time: 36.83420467376709 seconds\n",
      "Mean ROC_AUC score with QuantileTransformer (normal distribution): 0.8579274467170059\n"
     ]
    }
   ],
   "source": [
    "from category_encoders import TargetEncoder\n",
    "\n",
    "def compare_preprocessing_te(model, X, y, te_columns):\n",
    "    encoder = TargetEncoder(cols=te_columns)\n",
    "\n",
    "    scaler = StandardScaler()\n",
    "    transformer = PowerTransformer()\n",
    "    scaler_without_std = StandardScaler(with_std=False)\n",
    "    quant_trans_uniform = QuantileTransformer(output_distribution='uniform')\n",
    "    quant_trans_normal = QuantileTransformer(output_distribution='normal')\n",
    "\n",
    "    model_te = make_pipeline(encoder, model)\n",
    "    model_scaler = make_pipeline(encoder, scaler, model)\n",
    "    model_transformer = make_pipeline(encoder, transformer, model)\n",
    "    model_scaler_transformer = make_pipeline(encoder, scaler_without_std, transformer, model)\n",
    "    model_quant_trans_uniform = make_pipeline(encoder, quant_trans_uniform, model)\n",
    "    model_quant_trans_normal = make_pipeline(encoder, quant_trans_normal, model)\n",
    "\n",
    "    cross_val_summary(model_te, X, y, message=\"Mean ROC_AUC score without scaler: \")\n",
    "    cross_val_summary(model_scaler, X, y, message=\"Mean ROC_AUC score with scaler: \")\n",
    "    cross_val_summary(model_transformer, X, y, message=\"Mean ROC_AUC score with transformer: \")\n",
    "    cross_val_summary(model_scaler_transformer, X, y, message=\"Mean ROC_AUC score with scaler and transformer: \")\n",
    "    cross_val_summary(model_quant_trans_uniform, X, y, message=\"Mean ROC_AUC score with QuantileTransformer (uniform distribution): \")\n",
    "    cross_val_summary(model_quant_trans_normal, X, y, message=\"Mean ROC_AUC score with QuantileTransformer (normal distribution): \")\n",
    "\n",
    "X_le_psc_te = X_le_psc.copy()\n",
    "X_le_psc_te['Region_Code_te'] = X_le_psc_te['Region_Code']\n",
    "\n",
    "compare_preprocessing_te(lgbm, X_le_psc_te.drop(columns=\"Vintage\"), y, ['Region_Code_te'])"
   ]
  },
  {
   "cell_type": "markdown",
   "id": "43c54ba0",
   "metadata": {},
   "source": [
    "About 0.0006 ROC_AUC point boost."
   ]
  }
 ],
 "metadata": {
  "kernelspec": {
   "display_name": "Python 3 (ipykernel)",
   "language": "python",
   "name": "python3"
  },
  "language_info": {
   "codemirror_mode": {
    "name": "ipython",
    "version": 3
   },
   "file_extension": ".py",
   "mimetype": "text/x-python",
   "name": "python",
   "nbconvert_exporter": "python",
   "pygments_lexer": "ipython3",
   "version": "3.8.10"
  }
 },
 "nbformat": 4,
 "nbformat_minor": 5
}
