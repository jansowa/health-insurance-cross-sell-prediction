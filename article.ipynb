{
 "cells": [
  {
   "cell_type": "markdown",
   "id": "9bf047ec",
   "metadata": {},
   "source": [
    "# Health insurance cross sell prediction with XGBoost"
   ]
  },
  {
   "cell_type": "markdown",
   "id": "4b40eeea",
   "metadata": {},
   "source": [
    "## 1. Problem description\n",
    "\n",
    "[Kaggle source](https://www.kaggle.com/datasets/anmolkumar/health-insurance-cross-sell-prediction)\n",
    "This dataset contains a list of health insurance customers. The \"Response\" column indicates whether the customer also wanted to use car insurance. I'll try to build a model that predicts this decision."
   ]
  },
  {
   "cell_type": "code",
   "execution_count": 1,
   "id": "5ffc9d50",
   "metadata": {},
   "outputs": [
    {
     "name": "stdout",
     "output_type": "stream",
     "text": [
      "Number of rows: 381109\n"
     ]
    },
    {
     "data": {
      "text/html": [
       "<div>\n",
       "<style scoped>\n",
       "    .dataframe tbody tr th:only-of-type {\n",
       "        vertical-align: middle;\n",
       "    }\n",
       "\n",
       "    .dataframe tbody tr th {\n",
       "        vertical-align: top;\n",
       "    }\n",
       "\n",
       "    .dataframe thead th {\n",
       "        text-align: right;\n",
       "    }\n",
       "</style>\n",
       "<table border=\"1\" class=\"dataframe\">\n",
       "  <thead>\n",
       "    <tr style=\"text-align: right;\">\n",
       "      <th></th>\n",
       "      <th>id</th>\n",
       "      <th>Gender</th>\n",
       "      <th>Age</th>\n",
       "      <th>Driving_License</th>\n",
       "      <th>Region_Code</th>\n",
       "      <th>Previously_Insured</th>\n",
       "      <th>Vehicle_Age</th>\n",
       "      <th>Vehicle_Damage</th>\n",
       "      <th>Annual_Premium</th>\n",
       "      <th>Policy_Sales_Channel</th>\n",
       "      <th>Vintage</th>\n",
       "      <th>Response</th>\n",
       "    </tr>\n",
       "  </thead>\n",
       "  <tbody>\n",
       "    <tr>\n",
       "      <th>0</th>\n",
       "      <td>1</td>\n",
       "      <td>Male</td>\n",
       "      <td>44</td>\n",
       "      <td>1</td>\n",
       "      <td>28.0</td>\n",
       "      <td>0</td>\n",
       "      <td>&gt; 2 Years</td>\n",
       "      <td>Yes</td>\n",
       "      <td>40454.0</td>\n",
       "      <td>26.0</td>\n",
       "      <td>217</td>\n",
       "      <td>1</td>\n",
       "    </tr>\n",
       "    <tr>\n",
       "      <th>1</th>\n",
       "      <td>2</td>\n",
       "      <td>Male</td>\n",
       "      <td>76</td>\n",
       "      <td>1</td>\n",
       "      <td>3.0</td>\n",
       "      <td>0</td>\n",
       "      <td>1-2 Year</td>\n",
       "      <td>No</td>\n",
       "      <td>33536.0</td>\n",
       "      <td>26.0</td>\n",
       "      <td>183</td>\n",
       "      <td>0</td>\n",
       "    </tr>\n",
       "    <tr>\n",
       "      <th>2</th>\n",
       "      <td>3</td>\n",
       "      <td>Male</td>\n",
       "      <td>47</td>\n",
       "      <td>1</td>\n",
       "      <td>28.0</td>\n",
       "      <td>0</td>\n",
       "      <td>&gt; 2 Years</td>\n",
       "      <td>Yes</td>\n",
       "      <td>38294.0</td>\n",
       "      <td>26.0</td>\n",
       "      <td>27</td>\n",
       "      <td>1</td>\n",
       "    </tr>\n",
       "    <tr>\n",
       "      <th>3</th>\n",
       "      <td>4</td>\n",
       "      <td>Male</td>\n",
       "      <td>21</td>\n",
       "      <td>1</td>\n",
       "      <td>11.0</td>\n",
       "      <td>1</td>\n",
       "      <td>&lt; 1 Year</td>\n",
       "      <td>No</td>\n",
       "      <td>28619.0</td>\n",
       "      <td>152.0</td>\n",
       "      <td>203</td>\n",
       "      <td>0</td>\n",
       "    </tr>\n",
       "    <tr>\n",
       "      <th>4</th>\n",
       "      <td>5</td>\n",
       "      <td>Female</td>\n",
       "      <td>29</td>\n",
       "      <td>1</td>\n",
       "      <td>41.0</td>\n",
       "      <td>1</td>\n",
       "      <td>&lt; 1 Year</td>\n",
       "      <td>No</td>\n",
       "      <td>27496.0</td>\n",
       "      <td>152.0</td>\n",
       "      <td>39</td>\n",
       "      <td>0</td>\n",
       "    </tr>\n",
       "  </tbody>\n",
       "</table>\n",
       "</div>"
      ],
      "text/plain": [
       "   id  Gender  Age  Driving_License  Region_Code  Previously_Insured  \\\n",
       "0   1    Male   44                1         28.0                   0   \n",
       "1   2    Male   76                1          3.0                   0   \n",
       "2   3    Male   47                1         28.0                   0   \n",
       "3   4    Male   21                1         11.0                   1   \n",
       "4   5  Female   29                1         41.0                   1   \n",
       "\n",
       "  Vehicle_Age Vehicle_Damage  Annual_Premium  Policy_Sales_Channel  Vintage  \\\n",
       "0   > 2 Years            Yes         40454.0                  26.0      217   \n",
       "1    1-2 Year             No         33536.0                  26.0      183   \n",
       "2   > 2 Years            Yes         38294.0                  26.0       27   \n",
       "3    < 1 Year             No         28619.0                 152.0      203   \n",
       "4    < 1 Year             No         27496.0                 152.0       39   \n",
       "\n",
       "   Response  \n",
       "0         1  \n",
       "1         0  \n",
       "2         1  \n",
       "3         0  \n",
       "4         0  "
      ]
     },
     "execution_count": 1,
     "metadata": {},
     "output_type": "execute_result"
    }
   ],
   "source": [
    "from common import *\n",
    "\n",
    "print(\"Number of rows:\", df.shape[0])\n",
    "df.head()"
   ]
  },
  {
   "cell_type": "markdown",
   "id": "985951f8",
   "metadata": {},
   "source": [
    "## 2. Initial data visualization\n",
    "TODO"
   ]
  },
  {
   "cell_type": "code",
   "execution_count": 2,
   "id": "5ac94901",
   "metadata": {},
   "outputs": [
    {
     "data": {
      "image/png": "[encoded data removed]",
      "text/plain": [
       "<Figure size 432x288 with 1 Axes>"
      ]
     },
     "metadata": {},
     "output_type": "display_data"
    }
   ],
   "source": [
    "labels = [\"positive (1)\", \"negative (0)\"]\n",
    "negative = df[df.Response == 0].size\n",
    "positive = df[df.Response == 1].size\n",
    "sizes = [negative, positive]\n",
    "fig1, ax1 = plt.subplots()\n",
    "ax1.pie(sizes, labels=labels, autopct='%1.1f%%', shadow=True, startangle=90)\n",
    "ax1.axis('equal')\n",
    "plt.title(\"Percentage of responses with a given class\", fontsize=25)\n",
    "plt.show()"
   ]
  },
  {
   "cell_type": "markdown",
   "id": "675d20bb",
   "metadata": {},
   "source": [
    "There are much more (87,7%) people witch choose both insurances."
   ]
  },
  {
   "cell_type": "code",
   "execution_count": 3,
   "id": "a7d5beba",
   "metadata": {},
   "outputs": [
    {
     "data": {
      "image/png": "[encoded data removed]",
      "text/plain": [
       "<Figure size 1080x1080 with 12 Axes>"
      ]
     },
     "metadata": {
      "needs_background": "light"
     },
     "output_type": "display_data"
    }
   ],
   "source": [
    "X_le.hist(bins=50, figsize=(15, 15))\n",
    "plt.show()"
   ]
  },
  {
   "cell_type": "markdown",
   "id": "a71832c5",
   "metadata": {},
   "source": [
    "TODO: conclusions from histogram"
   ]
  },
  {
   "cell_type": "markdown",
   "id": "8e696edf",
   "metadata": {},
   "source": [
    "## 3. Basic model with logistic regression\n",
    "TODO\n",
    "\n",
    "### 3.1 Metric\n",
    "TODO: info about ROC_AUC and imbalanced dataset. Deep dive into ROC!\n",
    "\n",
    "### 3.2 Cross validation"
   ]
  },
  {
   "cell_type": "code",
   "execution_count": 4,
   "id": "414fc001",
   "metadata": {},
   "outputs": [
    {
     "name": "stdout",
     "output_type": "stream",
     "text": [
      "Mean ROC_AUC score:  0.6626219144051005\n"
     ]
    }
   ],
   "source": [
    "from sklearn.linear_model import LogisticRegression\n",
    "logreg = LogisticRegression(random_state=42, n_jobs=-1)\n",
    "score = cross_val_score(logreg, X_le, y, cv=10, scoring='roc_auc').mean()\n",
    "print(\"Mean ROC_AUC score: \", str(score))"
   ]
  },
  {
   "cell_type": "markdown",
   "id": "c6d5a93b",
   "metadata": {},
   "source": [
    "## 4. Simple model with XGBoost\n",
    "TODO"
   ]
  },
  {
   "cell_type": "code",
   "execution_count": 5,
   "id": "287e25d3",
   "metadata": {},
   "outputs": [
    {
     "name": "stdout",
     "output_type": "stream",
     "text": [
      "Mean ROC_AUC score:  0.8566651987755973\n"
     ]
    }
   ],
   "source": [
    "xgb = XGBClassifier(n_jobs=-1, random_state=42, n_estimators=100, use_label_encoder=False, eval_metric=\"logloss\")\n",
    "score = cross_val_score(xgb, X_le, y, cv=10, scoring='roc_auc').mean()\n",
    "print(\"Mean ROC_AUC score: \", str(score))"
   ]
  },
  {
   "cell_type": "markdown",
   "id": "93f62a54",
   "metadata": {},
   "source": [
    "## 5 Remove 'Vintage' column\n",
    "\n",
    "TODO: add description"
   ]
  },
  {
   "cell_type": "code",
   "execution_count": 6,
   "id": "5dfea145",
   "metadata": {},
   "outputs": [
    {
     "name": "stdout",
     "output_type": "stream",
     "text": [
      "Mean ROC_AUC score without 'Vintage' column:  0.8569795768105639\n"
     ]
    }
   ],
   "source": [
    "score = cross_val_score(xgb, X_le.drop(columns=\"Vintage\"), y, cv=10, scoring='roc_auc').mean()\n",
    "print(\"Mean ROC_AUC score without 'Vintage' column: \", str(score))"
   ]
  },
  {
   "cell_type": "markdown",
   "id": "0d0a5db7",
   "metadata": {},
   "source": [
    "## 6. StandardScaler vs PowerTransformer vs QuantileTransformer\n",
    "\n",
    "TODO: add description"
   ]
  },
  {
   "cell_type": "code",
   "execution_count": 11,
   "id": "e1f0ab1a",
   "metadata": {},
   "outputs": [
    {
     "name": "stderr",
     "output_type": "stream",
     "text": [
      "/home/jsowa/anaconda3/envs/health_xgb_gpu/lib/python3.8/site-packages/sklearn/linear_model/_logistic.py:762: ConvergenceWarning: lbfgs failed to converge (status=1):\n",
      "STOP: TOTAL NO. of ITERATIONS REACHED LIMIT.\n",
      "\n",
      "Increase the number of iterations (max_iter) or scale the data as shown in:\n",
      "    https://scikit-learn.org/stable/modules/preprocessing.html\n",
      "Please also refer to the documentation for alternative solver options:\n",
      "    https://scikit-learn.org/stable/modules/linear_model.html#logistic-regression\n",
      "  n_iter_i = _check_optimize_result(\n",
      "/home/jsowa/anaconda3/envs/health_xgb_gpu/lib/python3.8/site-packages/sklearn/linear_model/_logistic.py:762: ConvergenceWarning: lbfgs failed to converge (status=1):\n",
      "STOP: TOTAL NO. of ITERATIONS REACHED LIMIT.\n",
      "\n",
      "Increase the number of iterations (max_iter) or scale the data as shown in:\n",
      "    https://scikit-learn.org/stable/modules/preprocessing.html\n",
      "Please also refer to the documentation for alternative solver options:\n",
      "    https://scikit-learn.org/stable/modules/linear_model.html#logistic-regression\n",
      "  n_iter_i = _check_optimize_result(\n",
      "/home/jsowa/anaconda3/envs/health_xgb_gpu/lib/python3.8/site-packages/sklearn/linear_model/_logistic.py:762: ConvergenceWarning: lbfgs failed to converge (status=1):\n",
      "STOP: TOTAL NO. of ITERATIONS REACHED LIMIT.\n",
      "\n",
      "Increase the number of iterations (max_iter) or scale the data as shown in:\n",
      "    https://scikit-learn.org/stable/modules/preprocessing.html\n",
      "Please also refer to the documentation for alternative solver options:\n",
      "    https://scikit-learn.org/stable/modules/linear_model.html#logistic-regression\n",
      "  n_iter_i = _check_optimize_result(\n",
      "/home/jsowa/anaconda3/envs/health_xgb_gpu/lib/python3.8/site-packages/sklearn/linear_model/_logistic.py:762: ConvergenceWarning: lbfgs failed to converge (status=1):\n",
      "STOP: TOTAL NO. of ITERATIONS REACHED LIMIT.\n",
      "\n",
      "Increase the number of iterations (max_iter) or scale the data as shown in:\n",
      "    https://scikit-learn.org/stable/modules/preprocessing.html\n",
      "Please also refer to the documentation for alternative solver options:\n",
      "    https://scikit-learn.org/stable/modules/linear_model.html#logistic-regression\n",
      "  n_iter_i = _check_optimize_result(\n",
      "/home/jsowa/anaconda3/envs/health_xgb_gpu/lib/python3.8/site-packages/sklearn/linear_model/_logistic.py:762: ConvergenceWarning: lbfgs failed to converge (status=1):\n",
      "STOP: TOTAL NO. of ITERATIONS REACHED LIMIT.\n",
      "\n",
      "Increase the number of iterations (max_iter) or scale the data as shown in:\n",
      "    https://scikit-learn.org/stable/modules/preprocessing.html\n",
      "Please also refer to the documentation for alternative solver options:\n",
      "    https://scikit-learn.org/stable/modules/linear_model.html#logistic-regression\n",
      "  n_iter_i = _check_optimize_result(\n",
      "/home/jsowa/anaconda3/envs/health_xgb_gpu/lib/python3.8/site-packages/numpy/core/_methods.py:244: RuntimeWarning: overflow encountered in reduce\n",
      "  ret = umr_sum(x, axis, dtype, out, keepdims=keepdims, where=where)\n",
      "/home/jsowa/anaconda3/envs/health_xgb_gpu/lib/python3.8/site-packages/numpy/core/_methods.py:244: RuntimeWarning: overflow encountered in reduce\n",
      "  ret = umr_sum(x, axis, dtype, out, keepdims=keepdims, where=where)\n",
      "/home/jsowa/anaconda3/envs/health_xgb_gpu/lib/python3.8/site-packages/numpy/core/_methods.py:233: RuntimeWarning: overflow encountered in multiply\n",
      "  x = um.multiply(x, x, out=x)\n",
      "/home/jsowa/anaconda3/envs/health_xgb_gpu/lib/python3.8/site-packages/numpy/core/_methods.py:244: RuntimeWarning: overflow encountered in reduce\n",
      "  ret = umr_sum(x, axis, dtype, out, keepdims=keepdims, where=where)\n",
      "/home/jsowa/anaconda3/envs/health_xgb_gpu/lib/python3.8/site-packages/numpy/core/_methods.py:233: RuntimeWarning: overflow encountered in multiply\n",
      "  x = um.multiply(x, x, out=x)\n",
      "/home/jsowa/anaconda3/envs/health_xgb_gpu/lib/python3.8/site-packages/numpy/core/_methods.py:244: RuntimeWarning: overflow encountered in reduce\n",
      "  ret = umr_sum(x, axis, dtype, out, keepdims=keepdims, where=where)\n",
      "/home/jsowa/anaconda3/envs/health_xgb_gpu/lib/python3.8/site-packages/numpy/core/_methods.py:244: RuntimeWarning: overflow encountered in reduce\n",
      "  ret = umr_sum(x, axis, dtype, out, keepdims=keepdims, where=where)\n",
      "/home/jsowa/anaconda3/envs/health_xgb_gpu/lib/python3.8/site-packages/numpy/core/_methods.py:244: RuntimeWarning: overflow encountered in reduce\n",
      "  ret = umr_sum(x, axis, dtype, out, keepdims=keepdims, where=where)\n",
      "/home/jsowa/anaconda3/envs/health_xgb_gpu/lib/python3.8/site-packages/numpy/core/_methods.py:244: RuntimeWarning: overflow encountered in reduce\n",
      "  ret = umr_sum(x, axis, dtype, out, keepdims=keepdims, where=where)\n",
      "/home/jsowa/anaconda3/envs/health_xgb_gpu/lib/python3.8/site-packages/numpy/core/_methods.py:244: RuntimeWarning: overflow encountered in reduce\n",
      "  ret = umr_sum(x, axis, dtype, out, keepdims=keepdims, where=where)\n",
      "/home/jsowa/anaconda3/envs/health_xgb_gpu/lib/python3.8/site-packages/numpy/core/_methods.py:233: RuntimeWarning: overflow encountered in multiply\n",
      "  x = um.multiply(x, x, out=x)\n",
      "/home/jsowa/anaconda3/envs/health_xgb_gpu/lib/python3.8/site-packages/numpy/core/_methods.py:244: RuntimeWarning: overflow encountered in reduce\n",
      "  ret = umr_sum(x, axis, dtype, out, keepdims=keepdims, where=where)\n",
      "/home/jsowa/anaconda3/envs/health_xgb_gpu/lib/python3.8/site-packages/numpy/core/_methods.py:244: RuntimeWarning: overflow encountered in reduce\n",
      "  ret = umr_sum(x, axis, dtype, out, keepdims=keepdims, where=where)\n"
     ]
    },
    {
     "name": "stdout",
     "output_type": "stream",
     "text": [
      "Mean ROC_AUC score with scaler:  0.8569739570255438\n",
      "Mean ROC_AUC score with transformer:  0.8569796914052137\n",
      "Mean ROC_AUC score with scaler and transformer:  0.8569772403805894\n",
      "Mean ROC_AUC score with QuantileTransformer (uniform distribution):  0.857073061382106\n",
      "Mean ROC_AUC score with QuantileTransformer (normal distribution):  0.8569845482310677\n"
     ]
    }
   ],
   "source": [
    "from sklearn.preprocessing import QuantileTransformer\n",
    "from sklearn.preprocessing import StandardScaler, PowerTransformer\n",
    "\n",
    "# TODO: determine which model returns log about scaling/more iterations\n",
    "def compare_preprocessing(model, X, y):\n",
    "    scaler = StandardScaler()\n",
    "    transformer = PowerTransformer()\n",
    "    scaler_without_std = StandardScaler(with_std=False)\n",
    "    quant_trans_uniform = QuantileTransformer(output_distribution='uniform')\n",
    "    quant_trans_normal = QuantileTransformer(output_distribution='normal')\n",
    "\n",
    "    model_scaler = make_pipeline(scaler, model)\n",
    "    model_transformer = make_pipeline(transformer, model)\n",
    "    model_scaler_transformer = make_pipeline(scaler_without_std, transformer, model)\n",
    "    model_quant_trans_uniform = make_pipeline(quant_trans_uniform, model)\n",
    "    model_quant_trans_normal = make_pipeline(quant_trans_normal, model)\n",
    "\n",
    "    score_scaler = cross_val_score(model_scaler, X, y, cv=10, scoring='roc_auc').mean()\n",
    "    score_transformer = cross_val_score(model_transformer, X, y, cv=10, scoring='roc_auc').mean()\n",
    "    score_scaler_transformer = cross_val_score(model_scaler_transformer, X, y, cv=10, scoring='roc_auc').mean()\n",
    "    score_quant_trans_uniform = cross_val_score(model_quant_trans_uniform, X, y, cv=10, scoring='roc_auc').mean()\n",
    "    score_quant_trans_normal = cross_val_score(model_quant_trans_normal, X, y, cv=10, scoring='roc_auc').mean()\n",
    "\n",
    "    print(\"Mean ROC_AUC score with scaler: \", str(score_scaler))\n",
    "    print(\"Mean ROC_AUC score with transformer: \", str(score_transformer))\n",
    "    print(\"Mean ROC_AUC score with scaler and transformer: \", str(score_scaler_transformer))\n",
    "    print(\"Mean ROC_AUC score with QuantileTransformer (uniform distribution): \", str(score_quant_trans_uniform))\n",
    "    print(\"Mean ROC_AUC score with QuantileTransformer (normal distribution): \", str(score_quant_trans_normal))\n",
    "\n",
    "compare_preprocessing(xgb, X_le.drop(columns=\"Vintage\"), y)\n",
    "# xgb_scaler = make_pipeline(StandardScaler(), XGBClassifier(n_jobs=-1, random_state=42, n_estimators=100, use_label_encoder=False, eval_metric=\"logloss\"))\n",
    "# xgb_transformer = make_pipeline(PowerTransformer(), XGBClassifier(n_jobs=-1, random_state=42, n_estimators=100, use_label_encoder=False, eval_metric=\"logloss\"))\n",
    "\n",
    "# score_scaler = cross_val_score(xgb_scaler, X_le.drop(columns=\"Vintage\"), y, cv=10, scoring='roc_auc').mean()\n",
    "# score_transformer = cross_val_score(xgb_transformer, X_le.drop(columns=\"Vintage\"), y, cv=10, scoring='roc_auc').mean()\n",
    "\n",
    "# xgb_scaler_transformer = make_pipeline(StandardScaler(with_std=False), PowerTransformer(), XGBClassifier(n_jobs=-1, random_state=42, n_estimators=100, use_label_encoder=False, eval_metric=\"logloss\"))\n",
    "# score_scaler_transformer = cross_val_score(xgb_scaler_transformer, X_le.drop(columns=\"Vintage\"), y, cv=10, scoring='roc_auc').mean()\n",
    "\n",
    "# xgb_quant_trans_uniform = make_pipeline(QuantileTransformer(output_distribution='uniform'), XGBClassifier(n_jobs=-1, random_state=42, n_estimators=100, use_label_encoder=False, eval_metric=\"logloss\"))\n",
    "# score_xgb_quant_trans_uniform = cross_val_score(xgb_quant_trans_uniform, X_le.drop(columns=\"Vintage\"), y, cv=10, scoring='roc_auc').mean()\n",
    "\n",
    "# xgb_quant_trans_normal = make_pipeline(QuantileTransformer(output_distribution='normal'), XGBClassifier(n_jobs=-1, random_state=42, n_estimators=100, use_label_encoder=False, eval_metric=\"logloss\"))\n",
    "# score_xgb_quant_trans_normal = cross_val_score(xgb_quant_trans_normal, X_le.drop(columns=\"Vintage\"), y, cv=10, scoring='roc_auc').mean()\n",
    "\n",
    "# print(\"Mean ROC_AUC score with scaler: \", str(score_scaler))\n",
    "# print(\"Mean ROC_AUC score with transformer: \", str(score_transformer))\n",
    "# print(\"Mean ROC_AUC score with scaler and transformer: \", str(score_scaler_transformer))\n",
    "# print(\"Mean ROC_AUC score with QuantileTransformer (uniform distribution): \", str(score_xgb_quant_trans_uniform))\n",
    "# print(\"Mean ROC_AUC score with QuantileTransformer (normal distribution): \", str(score_xgb_quant_trans_normal))\n",
    "\n"
   ]
  },
  {
   "cell_type": "markdown",
   "id": "e765c0d5",
   "metadata": {},
   "source": [
    "## 7. Vehicle age"
   ]
  }
 ],
 "metadata": {
  "kernelspec": {
   "display_name": "Python 3 (ipykernel)",
   "language": "python",
   "name": "python3"
  },
  "language_info": {
   "codemirror_mode": {
    "name": "ipython",
    "version": 3
   },
   "file_extension": ".py",
   "mimetype": "text/x-python",
   "name": "python",
   "nbconvert_exporter": "python",
   "pygments_lexer": "ipython3",
   "version": "3.8.10"
  }
 },
 "nbformat": 4,
 "nbformat_minor": 5
}
