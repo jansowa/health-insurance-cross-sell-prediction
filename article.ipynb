{
 "cells": [
  {
   "cell_type": "markdown",
   "id": "9bf047ec",
   "metadata": {},
   "source": [
    "# Health insurance cross sell prediction with XGBoost"
   ]
  },
  {
   "cell_type": "markdown",
   "id": "4b40eeea",
   "metadata": {},
   "source": [
    "## 1. Problem description\n",
    "\n",
    "[Kaggle source](https://www.kaggle.com/datasets/anmolkumar/health-insurance-cross-sell-prediction)\n",
    "TODO"
   ]
  },
  {
   "cell_type": "markdown",
   "id": "985951f8",
   "metadata": {},
   "source": [
    "## 2. Initial data visualization\n",
    "TODO"
   ]
  },
  {
   "cell_type": "markdown",
   "id": "8e696edf",
   "metadata": {},
   "source": [
    "## 3. Basic model with logistic regression\n",
    "TODO"
   ]
  },
  {
   "cell_type": "markdown",
   "id": "c6d5a93b",
   "metadata": {},
   "source": [
    "## 4. Simple model with XGBoost\n",
    "TODO"
   ]
  }
 ],
 "metadata": {
  "kernelspec": {
   "display_name": "Python 3 (ipykernel)",
   "language": "python",
   "name": "python3"
  },
  "language_info": {
   "codemirror_mode": {
    "name": "ipython",
    "version": 3
   },
   "file_extension": ".py",
   "mimetype": "text/x-python",
   "name": "python",
   "nbconvert_exporter": "python",
   "pygments_lexer": "ipython3",
   "version": "3.8.10"
  }
 },
 "nbformat": 4,
 "nbformat_minor": 5
}
